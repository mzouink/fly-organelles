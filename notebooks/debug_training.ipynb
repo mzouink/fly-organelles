{
 "cells": [
  {
   "cell_type": "code",
   "execution_count": 10,
   "metadata": {},
   "outputs": [],
   "source": [
    "from fly_organelles.utils import read_data_yaml\n",
    "from fly_organelles.data import get_scale_info\n",
    "import fibsem_tools as fst\n",
    "from pathlib import Path"
   ]
  },
  {
   "cell_type": "code",
   "execution_count": 3,
   "metadata": {},
   "outputs": [],
   "source": [
    "with open(\"../selected_data.yaml\", \"r\") as f:\n",
    "    datas = read_data_yaml(f)"
   ]
  },
  {
   "cell_type": "code",
   "execution_count": 6,
   "metadata": {},
   "outputs": [],
   "source": [
    "crops = datas[0]"
   ]
  },
  {
   "cell_type": "code",
   "execution_count": 19,
   "metadata": {},
   "outputs": [
    {
     "name": "stdout",
     "output_type": "stream",
     "text": [
      "/nrs/saalfeld/heinrichl/data/cellmap_labels/fly_organelles/culture/jrc_cos7-1a/groundtruth.zarr/crop257\n",
      "/nrs/saalfeld/heinrichl/data/cellmap_labels/fly_organelles/culture/jrc_cos7-1b/groundtruth.zarr/crop238\n",
      "/nrs/saalfeld/heinrichl/data/cellmap_labels/fly_organelles/tissue/other/jrc_mus-kidney/groundtruth.zarr/crop129\n",
      "/nrs/saalfeld/heinrichl/data/cellmap_labels/fly_organelles/tissue/other/jrc_mus-liver-zon-1/groundtruth.zarr/crop270\n",
      "/nrs/saalfeld/heinrichl/data/cellmap_labels/fly_organelles/tissue/other/jrc_mus-liver/groundtruth.zarr/crop132\n",
      "/nrs/saalfeld/heinrichl/data/cellmap_labels/fly_organelles/tissue/other/jrc_mus-liver/groundtruth.zarr/crop135\n",
      "/nrs/saalfeld/heinrichl/data/cellmap_labels/fly_organelles/tissue/other/jrc_mus-liver/groundtruth.zarr/crop136\n",
      "/nrs/saalfeld/heinrichl/data/cellmap_labels/fly_organelles/tissue/other/jrc_mus-liver/groundtruth.zarr/crop137\n",
      "/nrs/saalfeld/heinrichl/data/cellmap_labels/fly_organelles/culture/jrc_sum159-4/groundtruth.zarr/crop211\n",
      "/nrs/saalfeld/heinrichl/data/cellmap_labels/fly_organelles/tissue/other/jrc_zf-cardiac-1/groundtruth.zarr/crop318\n"
     ]
    }
   ],
   "source": [
    "label = \"all\"\n",
    "for crop in crops:\n",
    "    label_grp = fst.read(Path(crop) / label)\n",
    "    scales = get_scale_info(label_grp)\n",
    "    if scales[1][\"s0\"] == [8., 8., 8.]:\n",
    "        print(crop)\n",
    "    "
   ]
  },
  {
   "cell_type": "code",
   "execution_count": null,
   "metadata": {},
   "outputs": [],
   "source": []
  }
 ],
 "metadata": {
  "kernelspec": {
   "display_name": "fly-organelles_dev_3.10",
   "language": "python",
   "name": "python3"
  },
  "language_info": {
   "codemirror_mode": {
    "name": "ipython",
    "version": 3
   },
   "file_extension": ".py",
   "mimetype": "text/x-python",
   "name": "python",
   "nbconvert_exporter": "python",
   "pygments_lexer": "ipython3",
   "version": "3.10.14"
  }
 },
 "nbformat": 4,
 "nbformat_minor": 2
}
