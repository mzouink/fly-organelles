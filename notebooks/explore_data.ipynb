{
 "cells": [
  {
   "cell_type": "code",
   "execution_count": 1,
   "metadata": {},
   "outputs": [],
   "source": [
    "from pathlib import Path\n",
    "from typing import Sequence, Any\n",
    "from fibsem_tools import read\n",
    "import matplotlib.pyplot as plt"
   ]
  },
  {
   "cell_type": "code",
   "execution_count": 2,
   "metadata": {},
   "outputs": [],
   "source": [
    "\n",
    "def get_nested_attr(attrs, key: str | Sequence[str | int]) -> Any:\n",
    "    key_list: Sequence[str | int]\n",
    "    if isinstance(key, str):\n",
    "        key_list = key.split(\"/\")\n",
    "    else:\n",
    "        key_list = key\n",
    "    if len(key_list) == 1:\n",
    "        return attrs[key_list[0]]\n",
    "    else:\n",
    "        return get_nested_attr(attrs[key_list[0]], key_list[1:])\n",
    "\n",
    "def get_present_count(size, counts, possibilities) -> int:\n",
    "    possibilities.remove(\"present\")\n",
    "    not_present_sum = 0\n",
    "    for possibility in possibilities:\n",
    "        if possibility in counts:\n",
    "            not_present_sum += counts[possibility]\n",
    "    return size - not_present_sum"
   ]
  },
  {
   "cell_type": "code",
   "execution_count": 3,
   "metadata": {},
   "outputs": [],
   "source": [
    "#datadir = Path(\"/groups/cellmap/cellmap/data\")\n",
    "datadir = Path(\"/nrs/cellmap/data\")\n",
    "gt_container = \"staging/groundtruth.zarr\"\n",
    "#fly_data = [\"jrc_mb-1a\", \"jrc_fly-vnc-1\"]\n",
    "fly_data = {\"jrc_mb-1a\": \"recon-1/em/fibsem-uint8\",\n",
    "                \"jrc_fly-vnc-1\": \"recon-1/em/fibsem-int16\"}"
   ]
  },
  {
   "cell_type": "code",
   "execution_count": 4,
   "metadata": {},
   "outputs": [],
   "source": [
    "crops = {}\n",
    "for fly_ds, raw_ds  in fly_data.items():\n",
    "    assert Path.exists(datadir / fly_ds)\n",
    "    gt_path = datadir/fly_ds/gt_container\n",
    "    raw_path = datadir / fly_ds / f\"{fly_ds}.zarr\" / raw_ds\n",
    "    crops[fly_ds] =  [crop.name for crop in gt_path.iterdir() if crop.name.startswith(\"crop\")]\n",
    "\n"
   ]
  },
  {
   "cell_type": "code",
   "execution_count": 5,
   "metadata": {},
   "outputs": [],
   "source": [
    "annotated_classes = {}\n",
    "annotated_classes[\"total\"] = set()\n",
    "for fly_ds, crop_list in crops.items():\n",
    "    annotated_classes[fly_ds] = set()\n",
    "    for crop in crop_list:\n",
    "        crop_arr = read(datadir / fly_ds / gt_container / crop )\n",
    "        annotated_classes[crop] = set(get_nested_attr(crop_arr.attrs, [\"cellmap\", \"annotation\", \"class_names\"]))\n",
    "        annotated_classes[fly_ds] |= annotated_classes[crop]\n",
    "    annotated_classes[\"total\"] |= annotated_classes[fly_ds]\n",
    "        \n"
   ]
  },
  {
   "cell_type": "code",
   "execution_count": 6,
   "metadata": {},
   "outputs": [],
   "source": [
    "present_counts = {}\n",
    "present_counts[\"total\"] = {k: 0 for k in annotated_classes[\"total\"]}\n",
    "for fly_ds, crop_list in crops.items():\n",
    "    present_counts[fly_ds] = {k: 0 for k in annotated_classes[fly_ds]}\n",
    "    for crop in crop_list:\n",
    "        present_counts[crop] = {k: 0 for k in annotated_classes[crop]}\n",
    "        crop_arr = read(datadir / fly_ds / gt_container / crop )\n",
    "        for lbl in annotated_classes[crop]:\n",
    "            counts = get_nested_attr(crop_arr[lbl][\"s0\"].attrs, [\"cellmap\", \"annotation\", \"complement_counts\"])\n",
    "            possibilities = set(get_nested_attr(crop_arr[lbl][\"s0\"].attrs, [\"cellmap\", \"annotation\", \"annotation_type\", \"encoding\"]).keys())\n",
    "            present = get_present_count(crop_arr[lbl][\"s0\"].size, counts, possibilities)\n",
    "            present_counts[crop][lbl] += present\n",
    "            present_counts[fly_ds][lbl] += present\n",
    "            present_counts[\"total\"][lbl] += present"
   ]
  },
  {
   "cell_type": "code",
   "execution_count": 7,
   "metadata": {},
   "outputs": [],
   "source": [
    "present_counts_nozeros_and_cyto = {}\n",
    "for k, v in present_counts.items():\n",
    "    present_counts_nozeros_and_cyto[k] = dict()\n",
    "    for lbl in v:\n",
    "        if v[lbl] > 0 and lbl != \"cyto\":\n",
    "            present_counts_nozeros_and_cyto[k][lbl] = v[lbl]"
   ]
  },
  {
   "cell_type": "code",
   "execution_count": 82,
   "metadata": {},
   "outputs": [],
   "source": [
    "def plot_hist(units):\n",
    "    plt.figure(figsize=(20,6))\n",
    "    for unit in units:\n",
    "        lbls = list(present_counts_nozeros_and_cyto[unit].keys())\n",
    "        lblcounts = [present_counts_nozeros_and_cyto[unit][lbl] for lbl in lbls]\n",
    "        bars = plt.bar(lbls, lblcounts,width=0.9, align='center')\n",
    "    if len(units) == 1:\n",
    "        for bar, value in zip(bars, lblcounts):\n",
    "            plt.text(bar.get_x() + bar.get_width() / 2, bar.get_height()+0.01 * max(lblcounts), f'{value:,}', ha='center', color='black', fontsize=8, fontweight='bold')\n",
    "    plt.xticks(rotation=45, ha=\"right\")\n",
    "    plt.tight_layout()\n"
   ]
  },
  {
   "cell_type": "code",
   "execution_count": 84,
   "metadata": {},
   "outputs": [],
   "source": [
    "plot_hist([\"total\"])"
   ]
  },
  {
   "cell_type": "code",
   "execution_count": null,
   "metadata": {},
   "outputs": [],
   "source": []
  }
 ],
 "metadata": {
  "kernelspec": {
   "display_name": "fly-organelles_dev_3.10",
   "language": "python",
   "name": "python3"
  },
  "language_info": {
   "codemirror_mode": {
    "name": "ipython",
    "version": 3
   },
   "file_extension": ".py",
   "mimetype": "text/x-python",
   "name": "python",
   "nbconvert_exporter": "python",
   "pygments_lexer": "ipython3",
   "version": "3.10.13"
  }
 },
 "nbformat": 4,
 "nbformat_minor": 2
}
