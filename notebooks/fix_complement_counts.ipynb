{
 "cells": [
  {
   "cell_type": "code",
   "execution_count": null,
   "metadata": {},
   "outputs": [],
   "source": [
    "import fibsem_tools as fst\n",
    "import numpy as np\n",
    "import skimage\n",
    "import yaml\n",
    "from pathlib import Path\n",
    "from enum import Enum"
   ]
  },
  {
   "cell_type": "code",
   "execution_count": null,
   "metadata": {},
   "outputs": [],
   "source": [
    "class Annotation(Enum):\n",
    "    UNKNOWN = 255\n",
    "    PRESENT = 1\n",
    "    ABSENT = 0\n"
   ]
  },
  {
   "cell_type": "code",
   "execution_count": null,
   "metadata": {},
   "outputs": [],
   "source": [
    "data_config = open(\"../all_data.yaml\")\n",
    "datasets = yaml.safe_load(data_config)\n",
    "okays = []\n",
    "not_okays = []\n",
    "for dataset, ds_info in datasets[\"datasets\"].items():\n",
    "    for crop in ds_info[\"crops\"]:\n",
    "        for c in crop.split(\",\"):\n",
    "            group = fst.read(Path(datasets[\"gt_path\"]) / dataset / \"groundtruth.zarr\" / c)\n",
    "            for label in group:\n",
    "                if label != \"all\":\n",
    "                    for lvl in group[label]:\n",
    "                        if lvl == \"s0\":\n",
    "                            attrs_complements = group[f\"{label}/{lvl}\"].attrs[\"cellmap\"][\"annotation\"][\"complement_counts\"]\n",
    "                            hist = dict(zip(*np.unique(group[f\"{label}/{lvl}\"], return_counts=True)))\n",
    "                            complements = {Annotation(k).name.lower(): v for k, v in hist.items() if k != Annotation.PRESENT.value and v != 0}\n",
    "                            if complements != attrs_complements:\n",
    "                                print(Path(datasets[\"gt_path\"])/dataset/\"groundtruth.zarr\"/c/label/lvl)\n",
    "                                print(complements, attrs_complements)\n",
    "                                not_okays.append(Path(datasets[\"gt_path\"])/dataset/\"groundtruth.zarr\"/c/label/lvl)\n",
    "                            else:\n",
    "                                okays.append(Path(datasets[\"gt_path\"])/dataset/\"groundtruth.zarr\"/c/label/lvl)"
   ]
  },
  {
   "cell_type": "code",
   "execution_count": null,
   "metadata": {},
   "outputs": [],
   "source": [
    "not_okays"
   ]
  },
  {
   "cell_type": "code",
   "execution_count": null,
   "metadata": {},
   "outputs": [],
   "source": [
    "for lblpath in not_okays:\n",
    "    zarray = fst.access(lblpath, \"a\")\n",
    "    attrs_complements = zarray.attrs[\"cellmap\"][\"annotation\"][\"complement_counts\"]\n",
    "    hist = dict(zip(*np.unique(zarray, return_counts=True)))\n",
    "    complements = {Annotation(k).name.lower(): v for k, v in hist.items() if k != Annotation.PRESENT.value and v != 0}\n",
    "    if complements != attrs_complements:\n",
    "        print(zarray.attrs[\"cellmap\"][\"annotation\"][\"complement_counts\"])\n",
    "        print(complements)\n",
    "        attrs = zarray.attrs.asdict()\n",
    "        attrs[\"cellmap\"][\"annotation\"][\"complement_counts\"] = complements\n",
    "        zarray.attrs[\"cellmap\"] = attrs[\"cellmap\"]\n",
    "    else:\n",
    "        print(\"oh\")"
   ]
  }
 ],
 "metadata": {
  "kernelspec": {
   "display_name": "fly-organelles_default_3.10",
   "language": "python",
   "name": "python3"
  },
  "language_info": {
   "codemirror_mode": {
    "name": "ipython",
    "version": 3
   },
   "file_extension": ".py",
   "mimetype": "text/x-python",
   "name": "python",
   "nbconvert_exporter": "python",
   "pygments_lexer": "ipython3",
   "version": "3.10.14"
  }
 },
 "nbformat": 4,
 "nbformat_minor": 2
}
