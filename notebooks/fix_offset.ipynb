{
 "cells": [
  {
   "cell_type": "code",
   "execution_count": 1,
   "metadata": {},
   "outputs": [],
   "source": [
    "import yaml\n",
    "import os\n",
    "import zarr\n",
    "import fibsem_tools as fst\n",
    "import numpy as np"
   ]
  },
  {
   "cell_type": "code",
   "execution_count": 2,
   "metadata": {},
   "outputs": [],
   "source": [
    "with open(\"../all_data.yaml\") as f:\n",
    "    datas = yaml.safe_load(f)"
   ]
  },
  {
   "cell_type": "code",
   "execution_count": null,
   "metadata": {},
   "outputs": [],
   "source": [
    "root_gt_path = \"/nrs/saalfeld/heinrichl/data/cellmap_labels/fly_organelles/\""
   ]
  },
  {
   "cell_type": "code",
   "execution_count": null,
   "metadata": {},
   "outputs": [],
   "source": [
    "def fix_offset(data, crop, orig_offset, new_offset):\n",
    "    diff_offset = np.array(orig_offset) - np.array(new_offset)\n",
    "    crop_root = fst.access(f\"{root_gt_path}{data}/groundtruth.zarr/{crop}\", mode=\"r+\")\n",
    "    for lbl in list(crop_root.keys()):\n",
    "        crop_label_root = crop_root[lbl]\n",
    "        ms_attrs = crop_label_root.attrs[\"multiscales\"]\n",
    "        for ds in range(len(ms_attrs[0][\"datasets\"])):\n",
    "            for k in range(len(ms_attrs[0][\"datasets\"][ds][\"coordinateTransformations\"])):\n",
    "                if ms_attrs[0][\"datasets\"][ds][\"coordinateTransformations\"][k][\"type\"] == \"translation\":\n",
    "                    transl = ms_attrs[0][\"datasets\"][ds][\"coordinateTransformations\"][k][\"translation\"] \n",
    "                    ms_attrs[0][\"datasets\"][ds][\"coordinateTransformations\"][k][\"translation\"] = list(np.array(transl) - diff_offset)\n",
    "        crop_label_root.attrs[\"multiscales\"] = ms_attrs"
   ]
  },
  {
   "cell_type": "code",
   "execution_count": null,
   "metadata": {},
   "outputs": [],
   "source": [
    "for key, ds_info in datas.items():\n",
    "    print(key)\n",
    "    root_raw = fst.read(ds_info[\"raw\"])\n",
    "    try:\n",
    "        datasets = root_raw.attrs[\"multiscales\"][0][\"datasets\"]\n",
    "    except KeyError as e:\n",
    "        print(\"Different metadata format?\")\n",
    "        continue\n",
    "    for ds in datasets:\n",
    "        if ds[\"path\"] == \"s0\":\n",
    "            raw_res = ds[\"coordinateTransformations\"][0][\"scale\"]\n",
    "    raw_res_arr = np.array(raw_res)\n",
    "    for crop in ds_info[\"crops\"]:\n",
    "        crop_root = fst.read(f\"{root_gt_path}{key}/groundtruth.zarr/{crop}\")\n",
    "        lbl = list(crop_root.keys())[0]\n",
    "        crop_datasets = crop_root[lbl].attrs[\"multiscales\"][0][\"datasets\"]\n",
    "        for cds in crop_datasets:\n",
    "            if cds[\"path\"] == \"s0\":\n",
    "                crop_res = cds[\"coordinateTransformations\"][0][\"scale\"]\n",
    "                crop_off = cds[\"coordinateTransformations\"][1][\"translation\"]\n",
    "                crop_off_arr = np.array(crop_off)\n",
    "                crop_res_arr = np.array(crop_res)\n",
    "                corner_off_arr = (crop_off_arr + raw_res_arr/2. - crop_res_arr/2.)\n",
    "                print(\"########################\")\n",
    "                if np.all(corner_off_arr % raw_res_arr == 0) and np.all(corner_off_arr % crop_res_arr == 0):\n",
    "                    print(crop, \"GOOD\", raw_res, crop_res, crop_off)\n",
    "                else:\n",
    "                    print(crop, \"BAD\")\n",
    "                    print(\"RAW -\", raw_res, \"; CROP -\", crop_res, \"@\", crop_off,\"->\", corner_off_arr)\n",
    "                    if np.all(crop_res < raw_res):\n",
    "                        crop_off_arr_suggested = crop_off_arr - crop_res_arr/2.\n",
    "                        corner_off_arr_suggested = (crop_off_arr_suggested + raw_res_arr/2. - crop_res_arr/2.)\n",
    "                        if np.all(corner_off_arr_suggested % raw_res_arr == 0) and np.all(corner_off_arr_suggested % crop_res_arr == 0):\n",
    "                            print(\"SUGGESTED WORKS:\", \"suggested offset:\", list(crop_off_arr_suggested))\n",
    "                            fix_offset(key, crop, crop_off, list(crop_off_arr_suggested))\n",
    "                        else:\n",
    "                            print(\"SUGGESTED STILL BAD\")\n",
    "                    else:\n",
    "                        crop_off_arr_suggested = crop_off_arr + crop_res_arr/2. - raw_res_arr/2.\n",
    "                        corner_off_arr_suggested = (crop_off_arr_suggested + raw_res_arr/2. - crop_res_arr/2.)\n",
    "                        if np.all(corner_off_arr_suggested % raw_res_arr == 0) and np.all(corner_off_arr_suggested % crop_res_arr == 0):\n",
    "                            print(\"SUGGESTED WORKS:\", \"suggested offset:\", list(crop_off_arr_suggested))\n",
    "                            fix_offset(key, crop, crop_off, list(crop_off_arr_suggested))\n",
    "                        else:\n",
    "                            print(\"SUGGESTED STILL BAD\")\n",
    "                        #print(\"IS DIVISIBLE: \", np.all(crop_off_arr%crop_res_arr == 0))\n",
    "    print(\"---------------------------------------------------------------------------------------------------------------------------------------------\")"
   ]
  }
 ],
 "metadata": {
  "kernelspec": {
   "display_name": "Python 3",
   "language": "python",
   "name": "python3"
  },
  "language_info": {
   "codemirror_mode": {
    "name": "ipython",
    "version": 3
   },
   "file_extension": ".py",
   "mimetype": "text/x-python",
   "name": "python",
   "nbconvert_exporter": "python",
   "pygments_lexer": "ipython3",
   "version": "3.10.13"
  }
 },
 "nbformat": 4,
 "nbformat_minor": 2
}
