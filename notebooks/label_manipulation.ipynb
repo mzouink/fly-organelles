{
 "cells": [
  {
   "cell_type": "code",
   "execution_count": 1,
   "metadata": {},
   "outputs": [],
   "source": [
    "import yaml\n",
    "import numpy as np\n",
    "import zarr\n",
    "import os\n",
    "import fibsem_tools as fst\n",
    "import fly_organelles\n",
    "import xarray as xr\n",
    "from xarray_multiscale import multiscale, windowed_mode\n",
    "#from fibsem_tools.io.multiscale import multiscale_group\n",
    "from numcodecs import GZip\n",
    "from cellmap_schemas.annotation import AnnotationGroup, AnnotationGroupAttrs, wrap_attributes, CropGroupAttrs, SemanticSegmentation, AnnotationArrayAttrs\n",
    "from pydantic_zarr import ArraySpec, GroupSpec"
   ]
  },
  {
   "cell_type": "code",
   "execution_count": 2,
   "metadata": {},
   "outputs": [
    {
     "ename": "AttributeError",
     "evalue": "module 'fibsem_tools.io' has no attribute 'multiscale'",
     "output_type": "error",
     "traceback": [
      "\u001b[0;31m---------------------------------------------------------------------------\u001b[0m",
      "\u001b[0;31mAttributeError\u001b[0m                            Traceback (most recent call last)",
      "Cell \u001b[0;32mIn[2], line 1\u001b[0m\n\u001b[0;32m----> 1\u001b[0m \u001b[43mfst\u001b[49m\u001b[38;5;241;43m.\u001b[39;49m\u001b[43mio\u001b[49m\u001b[38;5;241;43m.\u001b[39;49m\u001b[43mmultiscale\u001b[49m\u001b[38;5;241m.\u001b[39mmultiscale_group\n",
      "\u001b[0;31mAttributeError\u001b[0m: module 'fibsem_tools.io' has no attribute 'multiscale'"
     ]
    }
   ],
   "source": [
    "fst.io.multiscale.multiscale_group"
   ]
  },
  {
   "cell_type": "code",
   "execution_count": 2,
   "metadata": {},
   "outputs": [],
   "source": [
    "UNKNOWN = 255\n",
    "PRESENT = 1\n",
    "ABSENT = 0"
   ]
  },
  {
   "cell_type": "code",
   "execution_count": 3,
   "metadata": {},
   "outputs": [],
   "source": [
    "classes = fly_organelles.label_preparation.read_label_yaml(\"/home/heinrichl@hhmi.org/code/fly-organelles/label.yaml\")\n",
    "crop_path = \"/nrs/saalfeld/heinrichl/data/cellmap_labels/fly_organelles/culture/jrc_cos7-1a/groundtruth.zarr/crop237\"\n",
    "crop = fly_organelles.label_preparation.Crop(classes, crop_path)\n",
    "new_class = classes[\"organelle\"]\n",
    "arr = crop.add_new_class(new_class)"
   ]
  },
  {
   "cell_type": "code",
   "execution_count": null,
   "metadata": {},
   "outputs": [],
   "source": [
    "# atts = crop.crop_root.attrs\n",
    "# atts[\"cellmap\"][\"annotation\"][\"class_names\"] = atts[\"cellmap\"][\"annotation\"][\"class_names\"] + [\"organelle\"]\n",
    "# crop.crop_root.attrs.update(atts)"
   ]
  },
  {
   "cell_type": "code",
   "execution_count": null,
   "metadata": {},
   "outputs": [],
   "source": [
    "#ms_group = crop.crop_root.create_group(\"organelle\")"
   ]
  },
  {
   "cell_type": "code",
   "execution_count": 4,
   "metadata": {},
   "outputs": [
    {
     "name": "stderr",
     "output_type": "stream",
     "text": [
      "/groups/saalfeld/home/heinrichl/Brew/mambaforge/envs/fly-organelles_dev_3.10/lib/python3.10/site-packages/pydantic_ome_ngff/v04/multiscales.py:104: UserWarning: The name field was set to `None`. Version 0.4 of the OME-NGFF spec\n",
      "states that the `name` field of a Multiscales object should not be\n",
      "None.\n",
      "  warnings.warn(textwrap.fill(msg))\n"
     ]
    }
   ],
   "source": [
    "xrarr = xr.DataArray(arr, coords=crop.get_coords())"
   ]
  },
  {
   "cell_type": "code",
   "execution_count": 5,
   "metadata": {},
   "outputs": [],
   "source": [
    "multi = {m.name: m for m in multiscale(xrarr, windowed_mode, (2,2,2), chunks=crop.get_chunking())}"
   ]
  },
  {
   "cell_type": "code",
   "execution_count": 6,
   "metadata": {},
   "outputs": [],
   "source": [
    "hist = dict()\n",
    "for mslvl, msarr in multi.items():\n",
    "    ids, counts = np.unique(msarr, return_counts=True)\n",
    "    hist[mslvl] = dict()\n",
    "    if UNKNOWN in ids:\n",
    "        hist[mslvl][\"unknown\"] = counts[list(ids).index(UNKNOWN)]\n",
    "    if ABSENT in ids:\n",
    "        hist[mslvl][\"absent\"] = counts[list(ids).index(ABSENT)]"
   ]
  },
  {
   "cell_type": "code",
   "execution_count": 7,
   "metadata": {},
   "outputs": [],
   "source": [
    "annotation_array_attrs = dict()\n",
    "for mslvl in multi.keys():\n",
    "    annotation_array_attrs[mslvl] = AnnotationArrayAttrs(class_name=\"organelle\", complement_counts=hist[mslvl], annotation_type=SemanticSegmentation(encoding={\"absent\": ABSENT, \"present\": PRESENT, \"unknown\": UNKNOWN}))"
   ]
  },
  {
   "cell_type": "code",
   "execution_count": 8,
   "metadata": {},
   "outputs": [],
   "source": [
    "label_array_specs = dict()\n",
    "for mslvl, msarr in multi.items():\n",
    "    label_array_specs[mslvl] = ArraySpec.from_array(\n",
    "        msarr,\n",
    "        chunks=crop.get_chunking(),\n",
    "        compressor = GZip(-1),\n",
    "        attrs = wrap_attributes(annotation_array_attrs[mslvl]).dict(),\n",
    "    )"
   ]
  },
  {
   "cell_type": "code",
   "execution_count": 9,
   "metadata": {},
   "outputs": [],
   "source": [
    "annotation_group_attrs = AnnotationGroupAttrs(class_name=\"organelle\", description=\"\", annotation_type=SemanticSegmentation(encoding={\"absent\": ABSENT, \"present\": PRESENT, \"unknown\": UNKNOWN}))\n",
    "ms_group = multiscale_group(list(multi.values()), metadata_types=(\"ome-ngff@0.4\",), array_paths = list(multi.keys()), chunks=crop.get_chunking(), compressor=GZip(-1))\n",
    "group_spec = GroupSpec(attrs=wrap_attributes(annotation_group_attrs).dict() | ms_group.attrs, members=label_array_specs)"
   ]
  },
  {
   "cell_type": "code",
   "execution_count": 10,
   "metadata": {},
   "outputs": [],
   "source": [
    "store = zarr.NestedDirectoryStore(crop.crop_path)"
   ]
  },
  {
   "cell_type": "code",
   "execution_count": 11,
   "metadata": {},
   "outputs": [
    {
     "data": {
      "text/plain": [
       "<zarr.hierarchy.Group '/organelle'>"
      ]
     },
     "execution_count": 11,
     "metadata": {},
     "output_type": "execute_result"
    }
   ],
   "source": [
    "group_spec.to_zarr(store, path=\"organelle\", overwrite=True)"
   ]
  },
  {
   "cell_type": "code",
   "execution_count": 13,
   "metadata": {},
   "outputs": [],
   "source": [
    "for mslvl, msarr in multi.items():\n",
    "    mszarr = zarr.Array(\n",
    "        store,\n",
    "        path=f\"organelle/{mslvl}\",\n",
    "        write_empty_chunks=False\n",
    "    )\n",
    "    mszarr[:] = msarr.to_numpy()\n",
    "    "
   ]
  },
  {
   "cell_type": "code",
   "execution_count": 27,
   "metadata": {},
   "outputs": [
    {
     "data": {
      "text/plain": [
       "<zarr.core.Array '/crop237/organelle' (385, 400, 400) uint8>"
      ]
     },
     "execution_count": 27,
     "metadata": {},
     "output_type": "execute_result"
    }
   ],
   "source": [
    "crop.crop_root.create_dataset(name=\"organelle\", data=arr, dtype=np.uint8, chunks=(256,256,256), dimension_separator=\"/\", overwrite=True, fill_value=0)"
   ]
  },
  {
   "cell_type": "code",
   "execution_count": 13,
   "metadata": {},
   "outputs": [
    {
     "data": {
      "text/plain": [
       "True"
      ]
     },
     "execution_count": 13,
     "metadata": {},
     "output_type": "execute_result"
    }
   ],
   "source": [
    "\"organelle\" in crop.get_annotated_classes()"
   ]
  },
  {
   "cell_type": "code",
   "execution_count": 18,
   "metadata": {},
   "outputs": [
    {
     "data": {
      "text/plain": [
       "zarr.hierarchy.Group"
      ]
     },
     "execution_count": 18,
     "metadata": {},
     "output_type": "execute_result"
    }
   ],
   "source": [
    "type(crop.crop_root)"
   ]
  },
  {
   "cell_type": "code",
   "execution_count": 14,
   "metadata": {},
   "outputs": [
    {
     "data": {
      "text/plain": [
       "['ves_lum',\n",
       " 'lyso_mem',\n",
       " 'hchrom',\n",
       " 'mito_lum',\n",
       " 'perox',\n",
       " 'golgi_lum',\n",
       " 'np',\n",
       " 'mt_in',\n",
       " 'er',\n",
       " 'nucleo',\n",
       " 'mito_mem',\n",
       " 'echrom',\n",
       " 'bm',\n",
       " 'er_mem_all',\n",
       " 'eres_mem',\n",
       " 'ne_mem',\n",
       " 'glyco',\n",
       " 'perox_mem',\n",
       " 'isg_lum',\n",
       " 'ne_mem_all',\n",
       " 'golgi',\n",
       " 'pm',\n",
       " 'ld_lum',\n",
       " 'er_lum',\n",
       " 'er_mem',\n",
       " 'nucpl',\n",
       " 'mt',\n",
       " 'cent_all',\n",
       " 'ne',\n",
       " 'np_out',\n",
       " 'np_in',\n",
       " 'ves',\n",
       " 'endo_mem',\n",
       " 'cent_sdapp',\n",
       " 'perox_lum',\n",
       " 'rbc',\n",
       " 'cyto',\n",
       " 'nuc',\n",
       " 'endo',\n",
       " 'nhchrom',\n",
       " 'isg_ins',\n",
       " 'nechrom',\n",
       " 'isg',\n",
       " 'ld',\n",
       " 'lyso',\n",
       " 'mito',\n",
       " 'ves_mem',\n",
       " 'ld_mem',\n",
       " 'lyso_lum',\n",
       " 'cent',\n",
       " 'mt_out',\n",
       " 'tbar',\n",
       " 'eres_lum',\n",
       " 'endo_lum',\n",
       " 'cent_dapp',\n",
       " 'golgi_mem',\n",
       " 'mito_ribo',\n",
       " 'ne_lum',\n",
       " 'chrom',\n",
       " 'eres',\n",
       " 'ecs',\n",
       " 'organelle']"
      ]
     },
     "execution_count": 14,
     "metadata": {},
     "output_type": "execute_result"
    }
   ],
   "source": [
    "crop.crop_root.attrs[\"cellmap\"][\"annotation\"][\"class_names\"]"
   ]
  },
  {
   "cell_type": "code",
   "execution_count": 17,
   "metadata": {},
   "outputs": [
    {
     "data": {
      "text/plain": [
       "['ecs',\n",
       " 'pm',\n",
       " 'mito_mem',\n",
       " 'mito_lum',\n",
       " 'mito_ribo',\n",
       " 'golgi_mem',\n",
       " 'golgi_lum',\n",
       " 'ves_mem',\n",
       " 'ves_lum',\n",
       " 'endo_mem',\n",
       " 'endo_lum',\n",
       " 'lyso_mem',\n",
       " 'lyso_lum',\n",
       " 'ld_mem',\n",
       " 'ld_lum',\n",
       " 'er_mem',\n",
       " 'er_lum',\n",
       " 'eres_mem',\n",
       " 'eres_lum',\n",
       " 'ne_mem',\n",
       " 'ne_lum',\n",
       " 'np_out',\n",
       " 'np_in',\n",
       " 'hchrom',\n",
       " 'nhchrom',\n",
       " 'echrom',\n",
       " 'nechrom',\n",
       " 'nucpl',\n",
       " 'nucleo',\n",
       " 'mt_out',\n",
       " 'cent',\n",
       " 'cent_dapp',\n",
       " 'cent_sdapp',\n",
       " 'cyto',\n",
       " 'mt_in',\n",
       " 'nuc',\n",
       " 'glyco',\n",
       " 'golgi',\n",
       " 'ves',\n",
       " 'endo',\n",
       " 'lyso',\n",
       " 'ld',\n",
       " 'rbc',\n",
       " 'eres',\n",
       " 'perox_mem',\n",
       " 'perox_lum',\n",
       " 'perox',\n",
       " 'mito',\n",
       " 'er',\n",
       " 'ne',\n",
       " 'np',\n",
       " 'chrom',\n",
       " 'mt',\n",
       " 'isg_lum',\n",
       " 'isg_ins',\n",
       " 'isg',\n",
       " 'tbar',\n",
       " 'bm',\n",
       " 'cent_all',\n",
       " 'er_mem_all',\n",
       " 'ne_mem_all']"
      ]
     },
     "execution_count": 17,
     "metadata": {},
     "output_type": "execute_result"
    }
   ],
   "source": [
    "fst.read(crop_path).attrs[\"cellmap\"][\"annotation\"][\"class_names\"]"
   ]
  },
  {
   "cell_type": "code",
   "execution_count": 4,
   "metadata": {},
   "outputs": [],
   "source": [
    "import matplotlib.pyplot as plt"
   ]
  },
  {
   "cell_type": "code",
   "execution_count": 5,
   "metadata": {},
   "outputs": [
    {
     "data": {
      "text/plain": [
       "<matplotlib.image.AxesImage at 0x733683de77c0>"
      ]
     },
     "execution_count": 5,
     "metadata": {},
     "output_type": "execute_result"
    },
    {
     "data": {
      "image/png": "[encoded data removed]",
      "text/plain": [
       "<Figure size 640x480 with 1 Axes>"
      ]
     },
     "metadata": {},
     "output_type": "display_data"
    }
   ],
   "source": [
    "plt.imshow(arr[100]==1)"
   ]
  },
  {
   "cell_type": "code",
   "execution_count": 19,
   "metadata": {},
   "outputs": [
    {
     "ename": "KeyError",
     "evalue": "'mito_lum'",
     "output_type": "error",
     "traceback": [
      "\u001b[0;31m---------------------------------------------------------------------------\u001b[0m",
      "\u001b[0;31mKeyError\u001b[0m                                  Traceback (most recent call last)",
      "Cell \u001b[0;32mIn[19], line 1\u001b[0m\n\u001b[0;32m----> 1\u001b[0m \u001b[43mcrop\u001b[49m\u001b[38;5;241;43m.\u001b[39;49m\u001b[43mget_array\u001b[49m\u001b[43m(\u001b[49m\u001b[38;5;124;43m\"\u001b[39;49m\u001b[38;5;124;43mmito_lum\u001b[39;49m\u001b[38;5;124;43m\"\u001b[39;49m\u001b[43m)\u001b[49m\n",
      "File \u001b[0;32m~/code/fly-organelles/src/fly_organelles/label_preparation.py:57\u001b[0m, in \u001b[0;36mCrop.get_array\u001b[0;34m(self, label, scale_level)\u001b[0m\n\u001b[1;32m     56\u001b[0m \u001b[38;5;28;01mdef\u001b[39;00m \u001b[38;5;21mget_array\u001b[39m(\u001b[38;5;28mself\u001b[39m, label: \u001b[38;5;28mstr\u001b[39m, scale_level\u001b[38;5;241m=\u001b[39m\u001b[38;5;124m\"\u001b[39m\u001b[38;5;124ms0\u001b[39m\u001b[38;5;124m\"\u001b[39m) \u001b[38;5;241m-\u001b[39m\u001b[38;5;241m>\u001b[39m np\u001b[38;5;241m.\u001b[39mndarray:\n\u001b[0;32m---> 57\u001b[0m     \u001b[38;5;28;01mreturn\u001b[39;00m np\u001b[38;5;241m.\u001b[39marray(\u001b[38;5;28;43mself\u001b[39;49m\u001b[38;5;241;43m.\u001b[39;49m\u001b[43mcrop_root\u001b[49m\u001b[43m[\u001b[49m\u001b[43mlabel\u001b[49m\u001b[43m]\u001b[49m[scale_level])\n",
      "File \u001b[0;32m/groups/saalfeld/home/heinrichl/Brew/mambaforge/envs/fly-organelles_dev_3.10/lib/python3.10/site-packages/zarr/hierarchy.py:511\u001b[0m, in \u001b[0;36mGroup.__getitem__\u001b[0;34m(self, item)\u001b[0m\n\u001b[1;32m    509\u001b[0m         \u001b[38;5;28;01mraise\u001b[39;00m \u001b[38;5;167;01mKeyError\u001b[39;00m(item)\n\u001b[1;32m    510\u001b[0m \u001b[38;5;28;01melse\u001b[39;00m:\n\u001b[0;32m--> 511\u001b[0m     \u001b[38;5;28;01mraise\u001b[39;00m \u001b[38;5;167;01mKeyError\u001b[39;00m(item)\n",
      "\u001b[0;31mKeyError\u001b[0m: 'mito_lum'"
     ]
    }
   ],
   "source": [
    "crop.get_array(\"mito_lum\")"
   ]
  },
  {
   "cell_type": "code",
   "execution_count": null,
   "metadata": {},
   "outputs": [],
   "source": [
    "yaml.safe_load()"
   ]
  },
  {
   "cell_type": "code",
   "execution_count": 2,
   "metadata": {},
   "outputs": [],
   "source": [
    "root_gt_path = \"/nrs/saalfeld/heinrichl/data/cellmap_labels/fly_organelles/\""
   ]
  },
  {
   "cell_type": "code",
   "execution_count": 3,
   "metadata": {},
   "outputs": [],
   "source": [
    "with open(\"../label.yaml\") as f:\n",
    "    label = yaml.safe_load(f)"
   ]
  },
  {
   "cell_type": "code",
   "execution_count": 13,
   "metadata": {},
   "outputs": [],
   "source": [
    "cr =fst.access(\"/nrs/saalfeld/heinrichl/data/cellmap_labels/fly_organelles/culture/jrc_cos7-1a/groundtruth.zarr/crop237\", mode=\"r+\")"
   ]
  },
  {
   "cell_type": "code",
   "execution_count": 18,
   "metadata": {},
   "outputs": [],
   "source": [
    "annotated_classes = set(cr.attrs[\"cellmap\"][\"annotation\"][\"class_names\"])"
   ]
  },
  {
   "cell_type": "code",
   "execution_count": 20,
   "metadata": {},
   "outputs": [
    {
     "data": {
      "text/plain": [
       "(385, 400, 400)"
      ]
     },
     "execution_count": 20,
     "metadata": {},
     "output_type": "execute_result"
    }
   ],
   "source": [
    "some_label = next(iter(annotated_classes))\n",
    "cr[some_label][\"s0\"].shape"
   ]
  },
  {
   "cell_type": "code",
   "execution_count": 10,
   "metadata": {},
   "outputs": [
    {
     "data": {
      "text/plain": [
       "set"
      ]
     },
     "execution_count": 10,
     "metadata": {},
     "output_type": "execute_result"
    }
   ],
   "source": [
    "type(label[\"nuc\"])"
   ]
  },
  {
   "cell_type": "code",
   "execution_count": 18,
   "metadata": {},
   "outputs": [],
   "source": [
    "with open(\"../data.yaml\") as f:\n",
    "    data = yaml.safe_load(f)\n"
   ]
  },
  {
   "cell_type": "code",
   "execution_count": 5,
   "metadata": {},
   "outputs": [
    {
     "name": "stdout",
     "output_type": "stream",
     "text": [
      "nuc ['ne_mem', 'ne_lum', 'np_out', 'np_in', 'hchrom', 'nhchrom', 'echrom', 'nechrom', 'nucpl', 'nucleo']\n",
      "golgi ['golgi_mem', 'golgi_lum']\n",
      "ves ['ves_mem', 'ves_lum']\n",
      "endo ['endo_mem', 'endo_lum']\n",
      "lyso ['lyso_mem', 'lyso_lum']\n",
      "ld ['ld_mem', 'ld_lum']\n",
      "eres ['eres_mem', 'eres_lum']\n",
      "perox ['perox_mem', 'perox_lum']\n",
      "mito ['mito_mem', 'mito_lum', 'mito_ribo']\n",
      "ne ['ne_mem', 'ne_lum', 'np_out', 'np_in']\n",
      "np ['np_out', 'np_in']\n",
      "chrom ['hchrom', 'nhchrom', 'echrom', 'nechrom']\n",
      "mt ['mt_out', 'mt_in']\n",
      "isg ['isg_mem', 'isg_lum', 'isg_ins']\n",
      "er_mem_all ['er_mem', 'eres_mem', 'ne_mem']\n",
      "ne_mem_all ['ne_mem', 'np_out', 'np_in']\n",
      "cent_all ['cent', 'cent_dapp', 'cent_sdapp']\n",
      "chloroplast ['chloroplast_lum', 'chloroplast_mem', 'chloroplast_sg']\n",
      "vacuole ['vacuole_lum', 'vacuole_mem']\n",
      "er ['er_mem', 'er_lum', 'eres_mem', 'eres_lum', 'ne_mem', 'ne_lum', 'np_out', 'np_in', 'er_mem_all', 'ne_mem_all']\n",
      "cell ['pm', 'mito_mem', 'mito_lum', 'mito_ribo', 'golgi_mem', 'golgi_lum', 'ves_mem', 'ves_lum', 'endo_mem', 'endo_lum', 'lyso_mem', 'lyso_lum', 'ld_mem', 'ld_lum', 'er_mem', 'er_lum', 'eres_mem', 'eres_lum', 'ne_mem', 'ne_lum', 'np_out', 'np_in', 'hchrom', 'nhchrom', 'echrom', 'nechrom', 'nucpl', 'nucleo', 'mt_out', 'cent', 'cent_dapp', 'cent_sdapp', 'ribo', 'cyto', 'mt_in', 'nuc', 'vim', 'glyco', 'golgi', 'ves', 'endo', 'lyso', 'ld', 'eres', 'perox_mem', 'perox_lum', 'perox', 'mito', 'er', 'ne', 'np', 'chrom', 'mt', 'isg_mem', 'isg_lum', 'isg_ins', 'isg', 'actin', 'tbar', 'er_mem_all', 'ne_mem_all', 'cent_all', 'chloroplast_mem', 'chloroplast_lum', 'chloroplast_sg', 'chloroplast', 'vacuole_mem', 'vacuole_lum', 'vacuole']\n"
     ]
    }
   ],
   "source": [
    "for lbl, sublbls in label.items():\n",
    "    print(lbl, sublbls)"
   ]
  },
  {
   "cell_type": "code",
   "execution_count": 23,
   "metadata": {},
   "outputs": [
    {
     "name": "stdout",
     "output_type": "stream",
     "text": [
      "crop234, cans: ['nuc', 'golgi', 'endo', 'lyso', 'ld', 'eres', 'perox', 'ne', 'np', 'chrom', 'mt', 'er_mem_all', 'ne_mem_all', 'cent_all', 'er'], cants: ['ves', 'mito', 'isg', 'chloroplast', 'vacuole', 'cell']\n",
      "crop236, cans: ['nuc', 'golgi', 'endo', 'lyso', 'ld', 'eres', 'perox', 'ne', 'np', 'chrom', 'mt', 'er_mem_all', 'ne_mem_all', 'cent_all', 'er'], cants: ['ves', 'mito', 'isg', 'chloroplast', 'vacuole', 'cell']\n",
      "crop237, cans: ['nuc', 'golgi', 'endo', 'lyso', 'ld', 'eres', 'perox', 'ne', 'np', 'chrom', 'mt', 'er_mem_all', 'ne_mem_all', 'cent_all', 'er'], cants: ['ves', 'mito', 'isg', 'chloroplast', 'vacuole', 'cell']\n",
      "crop239, cans: ['nuc', 'golgi', 'endo', 'lyso', 'ld', 'eres', 'perox', 'ne', 'np', 'chrom', 'mt', 'er_mem_all', 'ne_mem_all', 'cent_all', 'er'], cants: ['ves', 'mito', 'isg', 'chloroplast', 'vacuole', 'cell']\n",
      "crop248, cans: ['nuc', 'golgi', 'endo', 'lyso', 'ld', 'eres', 'perox', 'ne', 'np', 'chrom', 'mt', 'er_mem_all', 'ne_mem_all', 'cent_all', 'er'], cants: ['ves', 'mito', 'isg', 'chloroplast', 'vacuole', 'cell']\n",
      "crop252, cans: ['nuc', 'golgi', 'endo', 'lyso', 'ld', 'eres', 'perox', 'ne', 'np', 'chrom', 'mt', 'er_mem_all', 'ne_mem_all', 'cent_all', 'er'], cants: ['ves', 'mito', 'isg', 'chloroplast', 'vacuole', 'cell']\n",
      "crop253, cans: ['perox', 'mt', 'cent_all'], cants: ['nuc', 'golgi', 'ves', 'endo', 'lyso', 'ld', 'eres', 'mito', 'ne', 'np', 'chrom', 'isg', 'er_mem_all', 'ne_mem_all', 'chloroplast', 'vacuole', 'er', 'cell']\n",
      "crop254, cans: ['nuc', 'golgi', 'endo', 'lyso', 'ld', 'eres', 'perox', 'ne', 'np', 'chrom', 'mt', 'er_mem_all', 'ne_mem_all', 'cent_all', 'er'], cants: ['ves', 'mito', 'isg', 'chloroplast', 'vacuole', 'cell']\n",
      "crop256, cans: ['nuc', 'golgi', 'endo', 'lyso', 'ld', 'eres', 'perox', 'ne', 'np', 'chrom', 'mt', 'er_mem_all', 'ne_mem_all', 'cent_all', 'er'], cants: ['ves', 'mito', 'isg', 'chloroplast', 'vacuole', 'cell']\n",
      "crop257, cans: ['perox', 'cent_all'], cants: ['nuc', 'golgi', 'ves', 'endo', 'lyso', 'ld', 'eres', 'mito', 'ne', 'np', 'chrom', 'mt', 'isg', 'er_mem_all', 'ne_mem_all', 'chloroplast', 'vacuole', 'er', 'cell']\n",
      "crop292, cans: ['nuc', 'golgi', 'endo', 'lyso', 'ld', 'eres', 'perox', 'ne', 'np', 'chrom', 'mt', 'er_mem_all', 'ne_mem_all', 'cent_all', 'er'], cants: ['ves', 'mito', 'isg', 'chloroplast', 'vacuole', 'cell']\n",
      "crop235, cans: ['nuc', 'golgi', 'endo', 'lyso', 'ld', 'eres', 'perox', 'ne', 'np', 'chrom', 'mt', 'er_mem_all', 'ne_mem_all', 'cent_all', 'er'], cants: ['ves', 'mito', 'isg', 'chloroplast', 'vacuole', 'cell']\n",
      "crop238, cans: ['perox', 'cent_all', 'chloroplast', 'vacuole'], cants: ['nuc', 'golgi', 'ves', 'endo', 'lyso', 'ld', 'eres', 'mito', 'ne', 'np', 'chrom', 'mt', 'isg', 'er_mem_all', 'ne_mem_all', 'er', 'cell']\n",
      "crop240, cans: ['nuc', 'golgi', 'endo', 'lyso', 'ld', 'eres', 'perox', 'ne', 'np', 'chrom', 'mt', 'er_mem_all', 'ne_mem_all', 'cent_all', 'er'], cants: ['ves', 'mito', 'isg', 'chloroplast', 'vacuole', 'cell']\n",
      "crop291, cans: ['nuc', 'golgi', 'endo', 'lyso', 'ld', 'eres', 'perox', 'ne', 'np', 'chrom', 'mt', 'er_mem_all', 'ne_mem_all', 'cent_all', 'er'], cants: ['ves', 'mito', 'isg', 'chloroplast', 'vacuole', 'cell']\n",
      "crop241, cans: ['nuc', 'golgi', 'endo', 'lyso', 'ld', 'eres', 'perox', 'ne', 'np', 'chrom', 'mt', 'er_mem_all', 'ne_mem_all', 'cent_all', 'er'], cants: ['ves', 'mito', 'isg', 'chloroplast', 'vacuole', 'cell']\n",
      "crop242, cans: ['nuc', 'golgi', 'endo', 'lyso', 'ld', 'eres', 'perox', 'ne', 'np', 'chrom', 'mt', 'er_mem_all', 'ne_mem_all', 'cent_all', 'er'], cants: ['ves', 'mito', 'isg', 'chloroplast', 'vacuole', 'cell']\n",
      "crop245, cans: ['nuc', 'golgi', 'endo', 'lyso', 'ld', 'eres', 'perox', 'ne', 'np', 'chrom', 'mt', 'er_mem_all', 'ne_mem_all', 'cent_all', 'er'], cants: ['ves', 'mito', 'isg', 'chloroplast', 'vacuole', 'cell']\n",
      "crop249, cans: ['nuc', 'golgi', 'endo', 'lyso', 'ld', 'eres', 'perox', 'ne', 'np', 'chrom', 'mt', 'er_mem_all', 'ne_mem_all', 'cent_all', 'er'], cants: ['ves', 'mito', 'isg', 'chloroplast', 'vacuole', 'cell']\n",
      "crop255, cans: ['nuc', 'golgi', 'endo', 'lyso', 'ld', 'eres', 'perox', 'ne', 'np', 'chrom', 'mt', 'er_mem_all', 'ne_mem_all', 'cent_all', 'er'], cants: ['ves', 'mito', 'isg', 'chloroplast', 'vacuole', 'cell']\n",
      "crop258, cans: ['nuc', 'golgi', 'endo', 'lyso', 'ld', 'eres', 'perox', 'ne', 'np', 'chrom', 'mt', 'er_mem_all', 'ne_mem_all', 'cent_all', 'er'], cants: ['ves', 'mito', 'isg', 'chloroplast', 'vacuole', 'cell']\n",
      "crop259, cans: ['nuc', 'golgi', 'endo', 'lyso', 'ld', 'eres', 'perox', 'ne', 'np', 'chrom', 'mt', 'er_mem_all', 'ne_mem_all', 'cent_all', 'er'], cants: ['ves', 'mito', 'isg', 'chloroplast', 'vacuole', 'cell']\n",
      "crop116, cans: ['nuc', 'golgi', 'endo', 'lyso', 'ld', 'eres', 'perox', 'ne', 'np', 'chrom', 'mt', 'er_mem_all', 'ne_mem_all', 'cent_all', 'er'], cants: ['ves', 'mito', 'isg', 'chloroplast', 'vacuole', 'cell']\n",
      "crop117, cans: ['nuc', 'golgi', 'endo', 'lyso', 'ld', 'eres', 'perox', 'ne', 'np', 'chrom', 'mt', 'er_mem_all', 'ne_mem_all', 'cent_all', 'er'], cants: ['ves', 'mito', 'isg', 'chloroplast', 'vacuole', 'cell']\n",
      "crop130, cans: ['nuc', 'golgi', 'endo', 'lyso', 'ld', 'eres', 'perox', 'ne', 'np', 'chrom', 'mt', 'er_mem_all', 'ne_mem_all', 'cent_all', 'er'], cants: ['ves', 'mito', 'isg', 'chloroplast', 'vacuole', 'cell']\n",
      "crop78, cans: ['nuc', 'golgi', 'endo', 'lyso', 'ld', 'eres', 'perox', 'ne', 'np', 'chrom', 'mt', 'er_mem_all', 'ne_mem_all', 'cent_all', 'er'], cants: ['ves', 'mito', 'isg', 'chloroplast', 'vacuole', 'cell']\n",
      "crop79, cans: ['nuc', 'golgi', 'endo', 'lyso', 'ld', 'eres', 'perox', 'ne', 'np', 'chrom', 'mt', 'er_mem_all', 'ne_mem_all', 'cent_all', 'er'], cants: ['ves', 'mito', 'isg', 'chloroplast', 'vacuole', 'cell']\n",
      "crop173, cans: ['nuc', 'golgi', 'endo', 'lyso', 'ld', 'eres', 'perox', 'ne', 'np', 'chrom', 'mt', 'er_mem_all', 'ne_mem_all', 'cent_all', 'er'], cants: ['ves', 'mito', 'isg', 'chloroplast', 'vacuole', 'cell']\n",
      "crop185, cans: ['nuc', 'golgi', 'endo', 'lyso', 'ld', 'eres', 'perox', 'ne', 'np', 'chrom', 'mt', 'er_mem_all', 'ne_mem_all', 'cent_all', 'er'], cants: ['ves', 'mito', 'isg', 'chloroplast', 'vacuole', 'cell']\n",
      "crop174, cans: ['nuc', 'golgi', 'endo', 'lyso', 'ld', 'eres', 'perox', 'ne', 'np', 'chrom', 'mt', 'er_mem_all', 'ne_mem_all', 'cent_all', 'er'], cants: ['ves', 'mito', 'isg', 'chloroplast', 'vacuole', 'cell']\n",
      "crop176, cans: ['nuc', 'golgi', 'endo', 'lyso', 'ld', 'eres', 'perox', 'ne', 'np', 'chrom', 'mt', 'er_mem_all', 'ne_mem_all', 'cent_all', 'er'], cants: ['ves', 'mito', 'isg', 'chloroplast', 'vacuole', 'cell']\n",
      "crop1, cans: ['nuc', 'golgi', 'endo', 'lyso', 'ld', 'eres', 'perox', 'ne', 'np', 'chrom', 'mt', 'er_mem_all', 'ne_mem_all', 'cent_all', 'er'], cants: ['ves', 'mito', 'isg', 'chloroplast', 'vacuole', 'cell']\n",
      "crop3, cans: ['nuc', 'golgi', 'endo', 'lyso', 'ld', 'eres', 'perox', 'ne', 'np', 'chrom', 'mt', 'er_mem_all', 'ne_mem_all', 'cent_all', 'er'], cants: ['ves', 'mito', 'isg', 'chloroplast', 'vacuole', 'cell']\n",
      "crop4, cans: ['nuc', 'golgi', 'endo', 'lyso', 'ld', 'eres', 'perox', 'ne', 'np', 'chrom', 'mt', 'er_mem_all', 'ne_mem_all', 'er'], cants: ['ves', 'mito', 'isg', 'cent_all', 'chloroplast', 'vacuole', 'cell']\n",
      "crop6, cans: ['nuc', 'golgi', 'endo', 'lyso', 'ld', 'eres', 'perox', 'ne', 'np', 'chrom', 'mt', 'er_mem_all', 'ne_mem_all', 'cent_all', 'er'], cants: ['ves', 'mito', 'isg', 'chloroplast', 'vacuole', 'cell']\n",
      "crop7, cans: ['nuc', 'golgi', 'endo', 'lyso', 'ld', 'eres', 'perox', 'ne', 'np', 'chrom', 'mt', 'er_mem_all', 'ne_mem_all', 'cent_all', 'er'], cants: ['ves', 'mito', 'isg', 'chloroplast', 'vacuole', 'cell']\n",
      "crop8, cans: ['nuc', 'golgi', 'endo', 'lyso', 'ld', 'eres', 'perox', 'ne', 'np', 'chrom', 'mt', 'er_mem_all', 'ne_mem_all', 'cent_all', 'er'], cants: ['ves', 'mito', 'isg', 'chloroplast', 'vacuole', 'cell']\n",
      "crop9, cans: ['nuc', 'golgi', 'endo', 'lyso', 'ld', 'eres', 'perox', 'ne', 'np', 'chrom', 'mt', 'er_mem_all', 'ne_mem_all', 'cent_all', 'er'], cants: ['ves', 'mito', 'isg', 'chloroplast', 'vacuole', 'cell']\n",
      "crop13, cans: ['nuc', 'golgi', 'endo', 'lyso', 'ld', 'eres', 'perox', 'ne', 'np', 'chrom', 'mt', 'er_mem_all', 'ne_mem_all', 'cent_all', 'er'], cants: ['ves', 'mito', 'isg', 'chloroplast', 'vacuole', 'cell']\n",
      "crop14, cans: ['nuc', 'golgi', 'endo', 'lyso', 'ld', 'eres', 'perox', 'ne', 'np', 'chrom', 'mt', 'er_mem_all', 'ne_mem_all', 'cent_all', 'er'], cants: ['ves', 'mito', 'isg', 'chloroplast', 'vacuole', 'cell']\n",
      "crop15, cans: ['nuc', 'golgi', 'endo', 'lyso', 'ld', 'eres', 'perox', 'ne', 'np', 'chrom', 'mt', 'er_mem_all', 'ne_mem_all', 'cent_all', 'er'], cants: ['ves', 'mito', 'isg', 'chloroplast', 'vacuole', 'cell']\n",
      "crop16, cans: ['nuc', 'golgi', 'endo', 'lyso', 'ld', 'eres', 'perox', 'ne', 'np', 'chrom', 'mt', 'er_mem_all', 'ne_mem_all', 'cent_all', 'er'], cants: ['ves', 'mito', 'isg', 'chloroplast', 'vacuole', 'cell']\n",
      "crop18, cans: ['nuc', 'golgi', 'endo', 'lyso', 'ld', 'eres', 'perox', 'ne', 'np', 'chrom', 'mt', 'er_mem_all', 'ne_mem_all', 'cent_all', 'er'], cants: ['ves', 'mito', 'isg', 'chloroplast', 'vacuole', 'cell']\n",
      "crop19, cans: ['nuc', 'golgi', 'endo', 'lyso', 'ld', 'eres', 'perox', 'ne', 'np', 'chrom', 'mt', 'er_mem_all', 'ne_mem_all', 'cent_all', 'er'], cants: ['ves', 'mito', 'isg', 'chloroplast', 'vacuole', 'cell']\n",
      "crop23, cans: ['nuc', 'golgi', 'endo', 'lyso', 'ld', 'eres', 'perox', 'ne', 'np', 'chrom', 'mt', 'er_mem_all', 'ne_mem_all', 'cent_all', 'er'], cants: ['ves', 'mito', 'isg', 'chloroplast', 'vacuole', 'cell']\n",
      "crop28, cans: ['nuc', 'golgi', 'endo', 'lyso', 'ld', 'eres', 'perox', 'ne', 'np', 'chrom', 'mt', 'er_mem_all', 'ne_mem_all', 'cent_all', 'er'], cants: ['ves', 'mito', 'isg', 'chloroplast', 'vacuole', 'cell']\n",
      "crop54, cans: ['nuc', 'golgi', 'endo', 'lyso', 'ld', 'eres', 'perox', 'ne', 'np', 'chrom', 'mt', 'er_mem_all', 'ne_mem_all', 'cent_all', 'er'], cants: ['ves', 'mito', 'isg', 'chloroplast', 'vacuole', 'cell']\n",
      "crop55, cans: ['nuc', 'golgi', 'endo', 'lyso', 'ld', 'eres', 'perox', 'ne', 'np', 'chrom', 'mt', 'er_mem_all', 'ne_mem_all', 'cent_all', 'er'], cants: ['ves', 'mito', 'isg', 'chloroplast', 'vacuole', 'cell']\n",
      "crop56, cans: ['nuc', 'golgi', 'endo', 'lyso', 'ld', 'eres', 'perox', 'ne', 'np', 'chrom', 'mt', 'er_mem_all', 'ne_mem_all', 'cent_all', 'er'], cants: ['ves', 'mito', 'isg', 'chloroplast', 'vacuole', 'cell']\n",
      "crop57, cans: ['nuc', 'golgi', 'endo', 'lyso', 'ld', 'eres', 'perox', 'ne', 'np', 'chrom', 'mt', 'er_mem_all', 'ne_mem_all', 'cent_all', 'er'], cants: ['ves', 'mito', 'isg', 'chloroplast', 'vacuole', 'cell']\n",
      "crop58, cans: ['nuc', 'golgi', 'endo', 'lyso', 'ld', 'eres', 'perox', 'ne', 'np', 'chrom', 'mt', 'er_mem_all', 'ne_mem_all', 'cent_all', 'er'], cants: ['ves', 'mito', 'isg', 'chloroplast', 'vacuole', 'cell']\n",
      "crop59, cans: ['nuc', 'golgi', 'endo', 'lyso', 'ld', 'eres', 'perox', 'ne', 'np', 'chrom', 'mt', 'er_mem_all', 'ne_mem_all', 'cent_all', 'er'], cants: ['ves', 'mito', 'isg', 'chloroplast', 'vacuole', 'cell']\n",
      "crop94, cans: ['golgi', 'endo', 'lyso', 'ld', 'eres', 'perox', 'ne', 'np', 'mt', 'er_mem_all', 'ne_mem_all', 'cent_all', 'er'], cants: ['nuc', 'ves', 'mito', 'chrom', 'isg', 'chloroplast', 'vacuole', 'cell']\n",
      "crop95, cans: ['golgi', 'endo', 'lyso', 'ld', 'eres', 'perox', 'ne', 'np', 'mt', 'er_mem_all', 'ne_mem_all', 'cent_all', 'er'], cants: ['nuc', 'ves', 'mito', 'chrom', 'isg', 'chloroplast', 'vacuole', 'cell']\n",
      "crop96, cans: ['golgi', 'endo', 'lyso', 'ld', 'eres', 'perox', 'ne', 'np', 'mt', 'er_mem_all', 'ne_mem_all', 'cent_all', 'er'], cants: ['nuc', 'ves', 'mito', 'chrom', 'isg', 'chloroplast', 'vacuole', 'cell']\n",
      "crop113, cans: ['nuc', 'golgi', 'endo', 'lyso', 'ld', 'eres', 'perox', 'ne', 'np', 'chrom', 'mt', 'er_mem_all', 'ne_mem_all', 'cent_all', 'er'], cants: ['ves', 'mito', 'isg', 'chloroplast', 'vacuole', 'cell']\n",
      "crop155, cans: ['nuc', 'golgi', 'endo', 'lyso', 'ld', 'eres', 'perox', 'ne', 'np', 'chrom', 'mt', 'er_mem_all', 'ne_mem_all', 'cent_all', 'er'], cants: ['ves', 'mito', 'isg', 'chloroplast', 'vacuole', 'cell']\n",
      "crop27, cans: ['nuc', 'golgi', 'endo', 'lyso', 'ld', 'eres', 'perox', 'ne', 'np', 'chrom', 'mt', 'er_mem_all', 'ne_mem_all', 'cent_all', 'er'], cants: ['ves', 'mito', 'isg', 'chloroplast', 'vacuole', 'cell']\n",
      "crop33, cans: ['nuc', 'golgi', 'endo', 'lyso', 'ld', 'eres', 'perox', 'ne', 'np', 'chrom', 'mt', 'er_mem_all', 'ne_mem_all', 'cent_all', 'er'], cants: ['ves', 'mito', 'isg', 'chloroplast', 'vacuole', 'cell']\n",
      "crop34, cans: ['nuc', 'golgi', 'endo', 'lyso', 'ld', 'eres', 'perox', 'ne', 'np', 'chrom', 'mt', 'er_mem_all', 'ne_mem_all', 'cent_all', 'er'], cants: ['ves', 'mito', 'isg', 'chloroplast', 'vacuole', 'cell']\n",
      "crop50, cans: ['nuc', 'golgi', 'endo', 'lyso', 'ld', 'eres', 'perox', 'ne', 'np', 'chrom', 'mt', 'er_mem_all', 'ne_mem_all', 'cent_all', 'er'], cants: ['ves', 'mito', 'isg', 'chloroplast', 'vacuole', 'cell']\n",
      "crop51, cans: ['nuc', 'golgi', 'endo', 'lyso', 'ld', 'eres', 'perox', 'ne', 'np', 'chrom', 'mt', 'er_mem_all', 'ne_mem_all', 'cent_all', 'er'], cants: ['ves', 'mito', 'isg', 'chloroplast', 'vacuole', 'cell']\n",
      "crop60, cans: ['nuc', 'golgi', 'endo', 'lyso', 'ld', 'eres', 'perox', 'ne', 'np', 'chrom', 'mt', 'er_mem_all', 'ne_mem_all', 'cent_all', 'er'], cants: ['ves', 'mito', 'isg', 'chloroplast', 'vacuole', 'cell']\n",
      "crop61, cans: ['nuc', 'golgi', 'endo', 'lyso', 'ld', 'eres', 'perox', 'ne', 'np', 'chrom', 'mt', 'er_mem_all', 'ne_mem_all', 'cent_all', 'er'], cants: ['ves', 'mito', 'isg', 'chloroplast', 'vacuole', 'cell']\n",
      "crop62, cans: ['nuc', 'golgi', 'endo', 'lyso', 'ld', 'eres', 'perox', 'ne', 'np', 'chrom', 'mt', 'er_mem_all', 'ne_mem_all', 'cent_all', 'er'], cants: ['ves', 'mito', 'isg', 'chloroplast', 'vacuole', 'cell']\n",
      "crop63, cans: ['nuc', 'golgi', 'endo', 'lyso', 'ld', 'eres', 'perox', 'ne', 'np', 'chrom', 'mt', 'er_mem_all', 'ne_mem_all', 'cent_all', 'er'], cants: ['ves', 'mito', 'isg', 'chloroplast', 'vacuole', 'cell']\n",
      "crop64, cans: ['nuc', 'golgi', 'endo', 'lyso', 'ld', 'eres', 'perox', 'ne', 'np', 'chrom', 'mt', 'er_mem_all', 'ne_mem_all', 'cent_all', 'er'], cants: ['ves', 'mito', 'isg', 'chloroplast', 'vacuole', 'cell']\n",
      "crop65, cans: ['nuc', 'golgi', 'endo', 'lyso', 'ld', 'eres', 'perox', 'ne', 'np', 'chrom', 'mt', 'er_mem_all', 'ne_mem_all', 'cent_all', 'er'], cants: ['ves', 'mito', 'isg', 'chloroplast', 'vacuole', 'cell']\n",
      "crop85, cans: ['golgi', 'endo', 'lyso', 'ld', 'eres', 'perox', 'ne', 'np', 'mt', 'er_mem_all', 'ne_mem_all', 'cent_all', 'er'], cants: ['nuc', 'ves', 'mito', 'chrom', 'isg', 'chloroplast', 'vacuole', 'cell']\n",
      "crop86, cans: ['golgi', 'endo', 'lyso', 'ld', 'eres', 'perox', 'ne', 'np', 'mt', 'er_mem_all', 'ne_mem_all', 'cent_all', 'er'], cants: ['nuc', 'ves', 'mito', 'chrom', 'isg', 'chloroplast', 'vacuole', 'cell']\n",
      "crop87, cans: ['golgi', 'endo', 'lyso', 'ld', 'eres', 'perox', 'ne', 'np', 'mt', 'er_mem_all', 'ne_mem_all', 'cent_all', 'er'], cants: ['nuc', 'ves', 'mito', 'chrom', 'isg', 'chloroplast', 'vacuole', 'cell']\n",
      "crop100, cans: ['nuc', 'lyso', 'ld', 'eres', 'perox', 'ne', 'np', 'chrom', 'mt', 'ne_mem_all'], cants: ['golgi', 'ves', 'endo', 'mito', 'isg', 'er_mem_all', 'cent_all', 'chloroplast', 'vacuole', 'er', 'cell']\n",
      "crop101, cans: ['nuc', 'golgi', 'endo', 'lyso', 'ld', 'eres', 'perox', 'ne', 'np', 'chrom', 'mt', 'er_mem_all', 'ne_mem_all', 'cent_all', 'er'], cants: ['ves', 'mito', 'isg', 'chloroplast', 'vacuole', 'cell']\n",
      "crop181, cans: ['nuc', 'golgi', 'endo', 'lyso', 'ld', 'eres', 'perox', 'ne', 'np', 'chrom', 'mt', 'er_mem_all', 'ne_mem_all', 'cent_all', 'er'], cants: ['ves', 'mito', 'isg', 'chloroplast', 'vacuole', 'cell']\n",
      "crop102, cans: ['lyso', 'ld', 'eres', 'perox', 'mt', 'cent_all'], cants: ['nuc', 'golgi', 'ves', 'endo', 'mito', 'ne', 'np', 'chrom', 'isg', 'er_mem_all', 'ne_mem_all', 'chloroplast', 'vacuole', 'er', 'cell']\n",
      "crop111, cans: ['nuc', 'golgi', 'endo', 'lyso', 'ld', 'eres', 'perox', 'ne', 'np', 'chrom', 'mt', 'er_mem_all', 'ne_mem_all', 'cent_all', 'er'], cants: ['ves', 'mito', 'isg', 'chloroplast', 'vacuole', 'cell']\n",
      "crop35, cans: ['nuc', 'golgi', 'endo', 'lyso', 'ld', 'eres', 'perox', 'ne', 'np', 'chrom', 'mt', 'er_mem_all', 'ne_mem_all', 'cent_all', 'er'], cants: ['ves', 'mito', 'isg', 'chloroplast', 'vacuole', 'cell']\n",
      "crop36, cans: ['nuc', 'golgi', 'endo', 'lyso', 'ld', 'eres', 'perox', 'ne', 'np', 'chrom', 'mt', 'er_mem_all', 'ne_mem_all', 'cent_all', 'er'], cants: ['ves', 'mito', 'isg', 'chloroplast', 'vacuole', 'cell']\n",
      "crop37, cans: ['nuc', 'golgi', 'endo', 'lyso', 'ld', 'eres', 'perox', 'ne', 'np', 'chrom', 'mt', 'er_mem_all', 'ne_mem_all', 'cent_all', 'er'], cants: ['ves', 'mito', 'isg', 'chloroplast', 'vacuole', 'cell']\n",
      "crop38, cans: ['nuc', 'golgi', 'endo', 'lyso', 'ld', 'eres', 'perox', 'ne', 'np', 'chrom', 'mt', 'er_mem_all', 'ne_mem_all', 'cent_all', 'er'], cants: ['ves', 'mito', 'isg', 'chloroplast', 'vacuole', 'cell']\n",
      "crop43, cans: ['nuc', 'golgi', 'endo', 'lyso', 'ld', 'eres', 'perox', 'ne', 'np', 'chrom', 'mt', 'er_mem_all', 'ne_mem_all', 'cent_all', 'er'], cants: ['ves', 'mito', 'isg', 'chloroplast', 'vacuole', 'cell']\n",
      "crop47, cans: ['nuc', 'golgi', 'endo', 'lyso', 'ld', 'eres', 'perox', 'ne', 'np', 'chrom', 'mt', 'er_mem_all', 'ne_mem_all', 'cent_all', 'er'], cants: ['ves', 'mito', 'isg', 'chloroplast', 'vacuole', 'cell']\n",
      "crop66, cans: ['nuc', 'golgi', 'endo', 'lyso', 'ld', 'eres', 'perox', 'ne', 'np', 'chrom', 'mt', 'er_mem_all', 'ne_mem_all', 'cent_all', 'er'], cants: ['ves', 'mito', 'isg', 'chloroplast', 'vacuole', 'cell']\n",
      "crop67, cans: ['nuc', 'golgi', 'endo', 'lyso', 'ld', 'eres', 'perox', 'ne', 'np', 'chrom', 'mt', 'er_mem_all', 'ne_mem_all', 'cent_all', 'er'], cants: ['ves', 'mito', 'isg', 'chloroplast', 'vacuole', 'cell']\n",
      "crop68, cans: ['nuc', 'golgi', 'endo', 'lyso', 'ld', 'eres', 'perox', 'ne', 'np', 'chrom', 'mt', 'er_mem_all', 'ne_mem_all', 'cent_all', 'er'], cants: ['ves', 'mito', 'isg', 'chloroplast', 'vacuole', 'cell']\n",
      "crop69, cans: ['nuc', 'golgi', 'endo', 'lyso', 'ld', 'eres', 'perox', 'ne', 'np', 'chrom', 'mt', 'er_mem_all', 'ne_mem_all', 'cent_all', 'er'], cants: ['ves', 'mito', 'isg', 'chloroplast', 'vacuole', 'cell']\n",
      "crop70, cans: ['nuc', 'golgi', 'endo', 'lyso', 'ld', 'eres', 'perox', 'ne', 'np', 'chrom', 'mt', 'er_mem_all', 'ne_mem_all', 'cent_all', 'er'], cants: ['ves', 'mito', 'isg', 'chloroplast', 'vacuole', 'cell']\n",
      "crop71, cans: ['nuc', 'golgi', 'endo', 'lyso', 'ld', 'eres', 'perox', 'ne', 'np', 'chrom', 'mt', 'er_mem_all', 'ne_mem_all', 'cent_all', 'er'], cants: ['ves', 'mito', 'isg', 'chloroplast', 'vacuole', 'cell']\n",
      "crop91, cans: ['golgi', 'endo', 'lyso', 'ld', 'eres', 'perox', 'ne', 'np', 'mt', 'er_mem_all', 'ne_mem_all', 'cent_all', 'er'], cants: ['nuc', 'ves', 'mito', 'chrom', 'isg', 'chloroplast', 'vacuole', 'cell']\n",
      "crop92, cans: ['golgi', 'endo', 'lyso', 'ld', 'eres', 'perox', 'ne', 'np', 'mt', 'er_mem_all', 'ne_mem_all', 'cent_all', 'er'], cants: ['nuc', 'ves', 'mito', 'chrom', 'isg', 'chloroplast', 'vacuole', 'cell']\n",
      "crop93, cans: ['golgi', 'endo', 'lyso', 'ld', 'eres', 'perox', 'ne', 'np', 'mt', 'er_mem_all', 'ne_mem_all', 'cent_all', 'er'], cants: ['nuc', 'ves', 'mito', 'chrom', 'isg', 'chloroplast', 'vacuole', 'cell']\n",
      "crop107, cans: ['nuc', 'golgi', 'endo', 'lyso', 'ld', 'eres', 'perox', 'ne', 'np', 'chrom', 'mt', 'er_mem_all', 'ne_mem_all', 'cent_all', 'er'], cants: ['ves', 'mito', 'isg', 'chloroplast', 'vacuole', 'cell']\n",
      "crop112, cans: ['nuc', 'golgi', 'endo', 'lyso', 'ld', 'eres', 'perox', 'ne', 'np', 'chrom', 'mt', 'er_mem_all', 'ne_mem_all', 'cent_all', 'er'], cants: ['ves', 'mito', 'isg', 'chloroplast', 'vacuole', 'cell']\n",
      "crop126, cans: ['nuc', 'golgi', 'endo', 'lyso', 'ld', 'eres', 'perox', 'ne', 'np', 'chrom', 'mt', 'er_mem_all', 'ne_mem_all', 'cent_all', 'er'], cants: ['ves', 'mito', 'isg', 'chloroplast', 'vacuole', 'cell']\n",
      "crop180, cans: ['nuc', 'golgi', 'endo', 'lyso', 'ld', 'eres', 'perox', 'ne', 'np', 'chrom', 'mt', 'er_mem_all', 'ne_mem_all', 'cent_all', 'er'], cants: ['ves', 'mito', 'isg', 'chloroplast', 'vacuole', 'cell']\n",
      "crop182, cans: ['nuc', 'golgi', 'endo', 'lyso', 'ld', 'eres', 'perox', 'ne', 'np', 'chrom', 'mt', 'er_mem_all', 'ne_mem_all', 'cent_all', 'er'], cants: ['ves', 'mito', 'isg', 'chloroplast', 'vacuole', 'cell']\n",
      "crop31, cans: ['nuc', 'golgi', 'endo', 'lyso', 'ld', 'eres', 'perox', 'ne', 'np', 'chrom', 'mt', 'er_mem_all', 'ne_mem_all', 'cent_all', 'er'], cants: ['ves', 'mito', 'isg', 'chloroplast', 'vacuole', 'cell']\n",
      "crop32, cans: ['nuc', 'golgi', 'endo', 'lyso', 'ld', 'eres', 'perox', 'ne', 'np', 'chrom', 'mt', 'er_mem_all', 'ne_mem_all', 'cent_all', 'er'], cants: ['ves', 'mito', 'isg', 'chloroplast', 'vacuole', 'cell']\n",
      "crop39, cans: ['nuc', 'golgi', 'endo', 'lyso', 'ld', 'eres', 'perox', 'ne', 'np', 'chrom', 'mt', 'er_mem_all', 'ne_mem_all', 'cent_all', 'er'], cants: ['ves', 'mito', 'isg', 'chloroplast', 'vacuole', 'cell']\n",
      "crop40, cans: ['nuc', 'golgi', 'endo', 'lyso', 'ld', 'eres', 'perox', 'ne', 'np', 'chrom', 'mt', 'er_mem_all', 'ne_mem_all', 'cent_all', 'er'], cants: ['ves', 'mito', 'isg', 'chloroplast', 'vacuole', 'cell']\n",
      "crop42, cans: ['nuc', 'golgi', 'endo', 'lyso', 'ld', 'eres', 'perox', 'ne', 'np', 'chrom', 'mt', 'er_mem_all', 'ne_mem_all', 'cent_all', 'er'], cants: ['ves', 'mito', 'isg', 'chloroplast', 'vacuole', 'cell']\n",
      "crop48, cans: ['nuc', 'golgi', 'endo', 'lyso', 'ld', 'eres', 'perox', 'ne', 'np', 'chrom', 'mt', 'er_mem_all', 'ne_mem_all', 'cent_all', 'er'], cants: ['ves', 'mito', 'isg', 'chloroplast', 'vacuole', 'cell']\n",
      "crop49, cans: ['nuc', 'golgi', 'endo', 'lyso', 'ld', 'eres', 'perox', 'ne', 'np', 'chrom', 'mt', 'er_mem_all', 'ne_mem_all', 'cent_all', 'er'], cants: ['ves', 'mito', 'isg', 'chloroplast', 'vacuole', 'cell']\n",
      "crop72, cans: ['nuc', 'golgi', 'endo', 'lyso', 'ld', 'eres', 'perox', 'ne', 'np', 'chrom', 'mt', 'er_mem_all', 'ne_mem_all', 'cent_all', 'er'], cants: ['ves', 'mito', 'isg', 'chloroplast', 'vacuole', 'cell']\n",
      "crop73, cans: ['nuc', 'golgi', 'endo', 'lyso', 'ld', 'eres', 'perox', 'ne', 'np', 'chrom', 'mt', 'er_mem_all', 'ne_mem_all', 'cent_all', 'er'], cants: ['ves', 'mito', 'isg', 'chloroplast', 'vacuole', 'cell']\n",
      "crop74, cans: ['nuc', 'golgi', 'endo', 'lyso', 'ld', 'eres', 'perox', 'ne', 'np', 'chrom', 'mt', 'er_mem_all', 'ne_mem_all', 'cent_all', 'er'], cants: ['ves', 'mito', 'isg', 'chloroplast', 'vacuole', 'cell']\n",
      "crop75, cans: ['nuc', 'golgi', 'endo', 'lyso', 'ld', 'eres', 'perox', 'ne', 'np', 'chrom', 'mt', 'er_mem_all', 'ne_mem_all', 'cent_all', 'er'], cants: ['ves', 'mito', 'isg', 'chloroplast', 'vacuole', 'cell']\n",
      "crop76, cans: ['nuc', 'golgi', 'endo', 'lyso', 'ld', 'eres', 'perox', 'ne', 'np', 'chrom', 'mt', 'er_mem_all', 'ne_mem_all', 'cent_all', 'er'], cants: ['ves', 'mito', 'isg', 'chloroplast', 'vacuole', 'cell']\n",
      "crop77, cans: ['nuc', 'golgi', 'endo', 'lyso', 'ld', 'eres', 'perox', 'ne', 'np', 'chrom', 'mt', 'er_mem_all', 'ne_mem_all', 'cent_all', 'er'], cants: ['ves', 'mito', 'isg', 'chloroplast', 'vacuole', 'cell']\n",
      "crop88, cans: ['golgi', 'endo', 'lyso', 'ld', 'eres', 'perox', 'ne', 'np', 'mt', 'er_mem_all', 'ne_mem_all', 'cent_all', 'er'], cants: ['nuc', 'ves', 'mito', 'chrom', 'isg', 'chloroplast', 'vacuole', 'cell']\n",
      "crop89, cans: ['golgi', 'endo', 'lyso', 'ld', 'eres', 'perox', 'ne', 'np', 'mt', 'er_mem_all', 'ne_mem_all', 'cent_all', 'er'], cants: ['nuc', 'ves', 'mito', 'chrom', 'isg', 'chloroplast', 'vacuole', 'cell']\n",
      "crop90, cans: ['golgi', 'endo', 'lyso', 'ld', 'eres', 'perox', 'ne', 'np', 'mt', 'er_mem_all', 'ne_mem_all', 'cent_all', 'er'], cants: ['nuc', 'ves', 'mito', 'chrom', 'isg', 'chloroplast', 'vacuole', 'cell']\n",
      "crop109, cans: ['nuc', 'golgi', 'endo', 'lyso', 'ld', 'eres', 'perox', 'ne', 'np', 'chrom', 'mt', 'er_mem_all', 'ne_mem_all', 'cent_all', 'er'], cants: ['ves', 'mito', 'isg', 'chloroplast', 'vacuole', 'cell']\n",
      "crop110, cans: ['nuc', 'golgi', 'endo', 'lyso', 'ld', 'eres', 'perox', 'ne', 'np', 'chrom', 'mt', 'er_mem_all', 'ne_mem_all', 'cent_all', 'er'], cants: ['ves', 'mito', 'isg', 'chloroplast', 'vacuole', 'cell']\n",
      "crop120, cans: ['nuc', 'golgi', 'endo', 'lyso', 'ld', 'eres', 'perox', 'ne', 'np', 'chrom', 'mt', 'er_mem_all', 'ne_mem_all', 'cent_all', 'er'], cants: ['ves', 'mito', 'isg', 'chloroplast', 'vacuole', 'cell']\n",
      "crop121, cans: ['nuc', 'golgi', 'endo', 'lyso', 'ld', 'eres', 'perox', 'ne', 'np', 'chrom', 'mt', 'er_mem_all', 'ne_mem_all', 'cent_all', 'er'], cants: ['ves', 'mito', 'isg', 'chloroplast', 'vacuole', 'cell']\n",
      "crop122, cans: ['nuc', 'golgi', 'endo', 'lyso', 'ld', 'eres', 'perox', 'ne', 'np', 'chrom', 'mt', 'er_mem_all', 'ne_mem_all', 'cent_all', 'er'], cants: ['ves', 'mito', 'isg', 'chloroplast', 'vacuole', 'cell']\n",
      "crop123, cans: ['nuc', 'golgi', 'endo', 'lyso', 'ld', 'eres', 'perox', 'ne', 'np', 'chrom', 'mt', 'er_mem_all', 'ne_mem_all', 'cent_all', 'er'], cants: ['ves', 'mito', 'isg', 'chloroplast', 'vacuole', 'cell']\n",
      "crop134, cans: ['nuc', 'golgi', 'endo', 'lyso', 'ld', 'eres', 'perox', 'ne', 'np', 'chrom', 'mt', 'er_mem_all', 'ne_mem_all', 'cent_all', 'er'], cants: ['ves', 'mito', 'isg', 'chloroplast', 'vacuole', 'cell']\n",
      "crop178, cans: ['nuc', 'golgi', 'endo', 'lyso', 'ld', 'eres', 'perox', 'ne', 'np', 'chrom', 'mt', 'er_mem_all', 'ne_mem_all', 'cent_all', 'er'], cants: ['ves', 'mito', 'isg', 'chloroplast', 'vacuole', 'cell']\n",
      "crop129, cans: ['nuc', 'golgi', 'endo', 'lyso', 'ld', 'eres', 'perox', 'ne', 'np', 'chrom', 'mt', 'er_mem_all', 'ne_mem_all', 'cent_all', 'er'], cants: ['ves', 'mito', 'isg', 'chloroplast', 'vacuole', 'cell']\n",
      "crop140, cans: ['nuc', 'golgi', 'endo', 'lyso', 'ld', 'eres', 'perox', 'ne', 'np', 'chrom', 'mt', 'er_mem_all', 'ne_mem_all', 'cent_all', 'er'], cants: ['ves', 'mito', 'isg', 'chloroplast', 'vacuole', 'cell']\n",
      "crop141, cans: ['nuc', 'golgi', 'endo', 'lyso', 'ld', 'eres', 'perox', 'ne', 'np', 'chrom', 'mt', 'er_mem_all', 'ne_mem_all', 'cent_all', 'er'], cants: ['ves', 'mito', 'isg', 'chloroplast', 'vacuole', 'cell']\n",
      "crop146, cans: ['nuc', 'golgi', 'endo', 'lyso', 'ld', 'eres', 'perox', 'ne', 'np', 'chrom', 'mt', 'er_mem_all', 'ne_mem_all', 'cent_all', 'er'], cants: ['ves', 'mito', 'isg', 'chloroplast', 'vacuole', 'cell']\n",
      "crop147, cans: ['nuc', 'golgi', 'endo', 'lyso', 'ld', 'eres', 'perox', 'ne', 'np', 'chrom', 'mt', 'er_mem_all', 'ne_mem_all', 'cent_all', 'er'], cants: ['ves', 'mito', 'isg', 'chloroplast', 'vacuole', 'cell']\n",
      "crop148, cans: ['nuc', 'golgi', 'endo', 'lyso', 'ld', 'eres', 'perox', 'ne', 'np', 'chrom', 'mt', 'er_mem_all', 'ne_mem_all', 'cent_all', 'er'], cants: ['ves', 'mito', 'isg', 'chloroplast', 'vacuole', 'cell']\n",
      "crop149, cans: ['nuc', 'golgi', 'endo', 'lyso', 'ld', 'eres', 'perox', 'ne', 'np', 'chrom', 'mt', 'er_mem_all', 'ne_mem_all', 'cent_all', 'er'], cants: ['ves', 'mito', 'isg', 'chloroplast', 'vacuole', 'cell']\n",
      "crop156, cans: ['nuc', 'golgi', 'endo', 'lyso', 'ld', 'eres', 'perox', 'ne', 'np', 'chrom', 'mt', 'er_mem_all', 'ne_mem_all', 'cent_all', 'er'], cants: ['ves', 'mito', 'isg', 'chloroplast', 'vacuole', 'cell']\n",
      "crop158, cans: ['nuc', 'golgi', 'endo', 'lyso', 'ld', 'eres', 'perox', 'ne', 'np', 'chrom', 'mt', 'er_mem_all', 'ne_mem_all', 'cent_all', 'er'], cants: ['ves', 'mito', 'isg', 'chloroplast', 'vacuole', 'cell']\n",
      "crop159, cans: ['nuc', 'golgi', 'endo', 'lyso', 'ld', 'eres', 'perox', 'ne', 'np', 'chrom', 'mt', 'er_mem_all', 'ne_mem_all', 'cent_all', 'er'], cants: ['ves', 'mito', 'isg', 'chloroplast', 'vacuole', 'cell']\n",
      "crop160, cans: ['nuc', 'golgi', 'endo', 'lyso', 'ld', 'eres', 'perox', 'ne', 'np', 'chrom', 'mt', 'er_mem_all', 'ne_mem_all', 'cent_all', 'er'], cants: ['ves', 'mito', 'isg', 'chloroplast', 'vacuole', 'cell']\n",
      "crop161, cans: ['nuc', 'golgi', 'endo', 'lyso', 'ld', 'eres', 'perox', 'ne', 'np', 'chrom', 'mt', 'er_mem_all', 'ne_mem_all', 'cent_all', 'er'], cants: ['ves', 'mito', 'isg', 'chloroplast', 'vacuole', 'cell']\n",
      "crop162, cans: ['nuc', 'golgi', 'endo', 'lyso', 'ld', 'eres', 'perox', 'ne', 'np', 'chrom', 'mt', 'er_mem_all', 'ne_mem_all', 'cent_all', 'er'], cants: ['ves', 'mito', 'isg', 'chloroplast', 'vacuole', 'cell']\n",
      "crop163, cans: ['nuc', 'golgi', 'endo', 'lyso', 'ld', 'eres', 'perox', 'ne', 'np', 'chrom', 'mt', 'er_mem_all', 'ne_mem_all', 'cent_all', 'er'], cants: ['ves', 'mito', 'isg', 'chloroplast', 'vacuole', 'cell']\n",
      "crop164, cans: ['nuc', 'golgi', 'endo', 'lyso', 'ld', 'eres', 'perox', 'ne', 'np', 'chrom', 'mt', 'er_mem_all', 'ne_mem_all', 'cent_all', 'er'], cants: ['ves', 'mito', 'isg', 'chloroplast', 'vacuole', 'cell']\n",
      "crop165, cans: ['nuc', 'golgi', 'endo', 'lyso', 'ld', 'eres', 'perox', 'ne', 'np', 'chrom', 'mt', 'er_mem_all', 'ne_mem_all', 'cent_all', 'er'], cants: ['ves', 'mito', 'isg', 'chloroplast', 'vacuole', 'cell']\n",
      "crop166, cans: ['nuc', 'golgi', 'endo', 'lyso', 'ld', 'eres', 'perox', 'ne', 'np', 'chrom', 'mt', 'er_mem_all', 'ne_mem_all', 'cent_all', 'er'], cants: ['ves', 'mito', 'isg', 'chloroplast', 'vacuole', 'cell']\n",
      "crop229, cans: ['ld', 'mt', 'cent_all'], cants: ['nuc', 'golgi', 'ves', 'endo', 'lyso', 'eres', 'perox', 'mito', 'ne', 'np', 'chrom', 'isg', 'er_mem_all', 'ne_mem_all', 'chloroplast', 'vacuole', 'er', 'cell']\n",
      "crop266, cans: ['nuc', 'golgi', 'endo', 'lyso', 'ld', 'eres', 'perox', 'ne', 'np', 'chrom', 'mt', 'er_mem_all', 'ne_mem_all', 'cent_all', 'er'], cants: ['ves', 'mito', 'isg', 'chloroplast', 'vacuole', 'cell']\n",
      "crop267, cans: ['nuc', 'golgi', 'endo', 'lyso', 'ld', 'eres', 'perox', 'ne', 'np', 'chrom', 'mt', 'er_mem_all', 'ne_mem_all', 'cent_all', 'er'], cants: ['ves', 'mito', 'isg', 'chloroplast', 'vacuole', 'cell']\n",
      "crop268, cans: ['nuc', 'golgi', 'endo', 'lyso', 'ld', 'eres', 'perox', 'ne', 'np', 'chrom', 'mt', 'er_mem_all', 'ne_mem_all', 'cent_all', 'er'], cants: ['ves', 'mito', 'isg', 'chloroplast', 'vacuole', 'cell']\n",
      "crop269, cans: ['nuc', 'golgi', 'endo', 'lyso', 'ld', 'eres', 'perox', 'ne', 'np', 'chrom', 'mt', 'er_mem_all', 'ne_mem_all', 'cent_all', 'er'], cants: ['ves', 'mito', 'isg', 'chloroplast', 'vacuole', 'cell']\n",
      "crop270, cans: ['nuc', 'golgi', 'endo', 'lyso', 'ld', 'eres', 'perox', 'ne', 'np', 'chrom', 'mt', 'er_mem_all', 'ne_mem_all', 'cent_all', 'er'], cants: ['ves', 'mito', 'isg', 'chloroplast', 'vacuole', 'cell']\n",
      "crop272, cans: ['nuc', 'golgi', 'endo', 'lyso', 'ld', 'eres', 'perox', 'ne', 'np', 'chrom', 'mt', 'er_mem_all', 'ne_mem_all', 'cent_all', 'er'], cants: ['ves', 'mito', 'isg', 'chloroplast', 'vacuole', 'cell']\n",
      "crop273, cans: ['nuc', 'golgi', 'endo', 'lyso', 'ld', 'eres', 'perox', 'ne', 'np', 'chrom', 'mt', 'er_mem_all', 'ne_mem_all', 'cent_all', 'er'], cants: ['ves', 'mito', 'isg', 'chloroplast', 'vacuole', 'cell']\n",
      "crop274, cans: ['nuc', 'golgi', 'endo', 'lyso', 'ld', 'eres', 'perox', 'ne', 'np', 'chrom', 'mt', 'er_mem_all', 'ne_mem_all', 'cent_all', 'er'], cants: ['ves', 'mito', 'isg', 'chloroplast', 'vacuole', 'cell']\n",
      "crop275, cans: ['nuc', 'golgi', 'endo', 'lyso', 'ld', 'eres', 'perox', 'ne', 'np', 'chrom', 'mt', 'er_mem_all', 'ne_mem_all', 'cent_all', 'er'], cants: ['ves', 'mito', 'isg', 'chloroplast', 'vacuole', 'cell']\n",
      "crop276, cans: ['nuc', 'golgi', 'endo', 'lyso', 'ld', 'eres', 'perox', 'ne', 'np', 'chrom', 'mt', 'er_mem_all', 'ne_mem_all', 'cent_all', 'er'], cants: ['ves', 'mito', 'isg', 'chloroplast', 'vacuole', 'cell']\n",
      "crop277, cans: ['nuc', 'golgi', 'endo', 'lyso', 'ld', 'eres', 'perox', 'ne', 'np', 'chrom', 'mt', 'er_mem_all', 'ne_mem_all', 'cent_all', 'er'], cants: ['ves', 'mito', 'isg', 'chloroplast', 'vacuole', 'cell']\n",
      "crop278, cans: ['nuc', 'golgi', 'endo', 'lyso', 'ld', 'eres', 'perox', 'ne', 'np', 'chrom', 'mt', 'er_mem_all', 'ne_mem_all', 'cent_all', 'er'], cants: ['ves', 'mito', 'isg', 'chloroplast', 'vacuole', 'cell']\n",
      "crop279, cans: ['nuc', 'golgi', 'endo', 'lyso', 'ld', 'eres', 'perox', 'ne', 'np', 'chrom', 'mt', 'er_mem_all', 'ne_mem_all', 'cent_all', 'er'], cants: ['ves', 'mito', 'isg', 'chloroplast', 'vacuole', 'cell']\n",
      "crop280, cans: ['nuc', 'golgi', 'endo', 'lyso', 'ld', 'eres', 'perox', 'ne', 'np', 'chrom', 'mt', 'er_mem_all', 'ne_mem_all', 'cent_all', 'er'], cants: ['ves', 'mito', 'isg', 'chloroplast', 'vacuole', 'cell']\n",
      "crop298, cans: ['nuc', 'golgi', 'endo', 'lyso', 'ld', 'eres', 'perox', 'ne', 'np', 'chrom', 'mt', 'er_mem_all', 'ne_mem_all', 'cent_all', 'er'], cants: ['ves', 'mito', 'isg', 'chloroplast', 'vacuole', 'cell']\n",
      "crop313, cans: ['nuc', 'golgi', 'endo', 'lyso', 'ld', 'eres', 'perox', 'ne', 'np', 'chrom', 'mt', 'er_mem_all', 'ne_mem_all', 'cent_all', 'er'], cants: ['ves', 'mito', 'isg', 'chloroplast', 'vacuole', 'cell']\n",
      "crop319, cans: ['nuc', 'golgi', 'endo', 'lyso', 'ld', 'eres', 'perox', 'ne', 'np', 'chrom', 'mt', 'er_mem_all', 'ne_mem_all', 'cent_all', 'er'], cants: ['ves', 'mito', 'isg', 'chloroplast', 'vacuole', 'cell']\n",
      "crop320, cans: ['nuc', 'golgi', 'endo', 'lyso', 'ld', 'eres', 'perox', 'ne', 'np', 'chrom', 'mt', 'er_mem_all', 'ne_mem_all', 'cent_all', 'er'], cants: ['ves', 'mito', 'isg', 'chloroplast', 'vacuole', 'cell']\n",
      "crop321, cans: ['nuc', 'golgi', 'endo', 'lyso', 'ld', 'eres', 'perox', 'ne', 'np', 'chrom', 'mt', 'er_mem_all', 'ne_mem_all', 'cent_all', 'er'], cants: ['ves', 'mito', 'isg', 'chloroplast', 'vacuole', 'cell']\n",
      "crop322, cans: ['nuc', 'golgi', 'endo', 'lyso', 'ld', 'eres', 'perox', 'ne', 'np', 'chrom', 'mt', 'er_mem_all', 'ne_mem_all', 'cent_all', 'er'], cants: ['ves', 'mito', 'isg', 'chloroplast', 'vacuole', 'cell']\n",
      "crop323, cans: ['nuc', 'golgi', 'endo', 'lyso', 'ld', 'eres', 'perox', 'ne', 'np', 'chrom', 'mt', 'er_mem_all', 'ne_mem_all', 'cent_all', 'er'], cants: ['ves', 'mito', 'isg', 'chloroplast', 'vacuole', 'cell']\n",
      "crop325, cans: ['nuc', 'golgi', 'endo', 'lyso', 'ld', 'eres', 'perox', 'ne', 'np', 'chrom', 'mt', 'er_mem_all', 'ne_mem_all', 'cent_all', 'er'], cants: ['ves', 'mito', 'isg', 'chloroplast', 'vacuole', 'cell']\n",
      "crop326, cans: ['nuc', 'golgi', 'endo', 'lyso', 'ld', 'eres', 'perox', 'ne', 'np', 'chrom', 'mt', 'er_mem_all', 'ne_mem_all', 'cent_all', 'er'], cants: ['ves', 'mito', 'isg', 'chloroplast', 'vacuole', 'cell']\n",
      "crop377, cans: ['nuc', 'golgi', 'endo', 'lyso', 'ld', 'eres', 'perox', 'ne', 'np', 'chrom', 'mt', 'er_mem_all', 'ne_mem_all', 'cent_all', 'er'], cants: ['ves', 'mito', 'isg', 'chloroplast', 'vacuole', 'cell']\n",
      "crop333, cans: ['nuc', 'golgi', 'endo', 'lyso', 'ld', 'eres', 'perox', 'ne', 'np', 'chrom', 'mt', 'er_mem_all', 'ne_mem_all', 'cent_all', 'er'], cants: ['ves', 'mito', 'isg', 'chloroplast', 'vacuole', 'cell']\n",
      "crop340, cans: ['nuc', 'golgi', 'endo', 'lyso', 'ld', 'eres', 'perox', 'ne', 'np', 'chrom', 'mt', 'er_mem_all', 'ne_mem_all', 'cent_all', 'er'], cants: ['ves', 'mito', 'isg', 'chloroplast', 'vacuole', 'cell']\n",
      "crop341, cans: ['nuc', 'golgi', 'endo', 'lyso', 'ld', 'eres', 'perox', 'ne', 'np', 'chrom', 'mt', 'er_mem_all', 'ne_mem_all', 'cent_all', 'er'], cants: ['ves', 'mito', 'isg', 'chloroplast', 'vacuole', 'cell']\n",
      "crop342, cans: ['nuc', 'golgi', 'endo', 'lyso', 'ld', 'eres', 'perox', 'ne', 'np', 'chrom', 'mt', 'er_mem_all', 'ne_mem_all', 'cent_all', 'er'], cants: ['ves', 'mito', 'isg', 'chloroplast', 'vacuole', 'cell']\n",
      "crop368, cans: ['nuc', 'golgi', 'endo', 'lyso', 'ld', 'eres', 'perox', 'ne', 'np', 'chrom', 'mt', 'er_mem_all', 'ne_mem_all', 'cent_all', 'er'], cants: ['ves', 'mito', 'isg', 'chloroplast', 'vacuole', 'cell']\n",
      "crop369, cans: ['nuc', 'golgi', 'endo', 'lyso', 'ld', 'eres', 'perox', 'ne', 'np', 'chrom', 'mt', 'er_mem_all', 'ne_mem_all', 'cent_all', 'er'], cants: ['ves', 'mito', 'isg', 'chloroplast', 'vacuole', 'cell']\n",
      "crop370, cans: ['nuc', 'golgi', 'endo', 'lyso', 'ld', 'eres', 'perox', 'ne', 'np', 'chrom', 'mt', 'er_mem_all', 'ne_mem_all', 'cent_all', 'er'], cants: ['ves', 'mito', 'isg', 'chloroplast', 'vacuole', 'cell']\n",
      "crop376, cans: ['nuc', 'golgi', 'endo', 'lyso', 'ld', 'eres', 'perox', 'ne', 'np', 'chrom', 'mt', 'er_mem_all', 'ne_mem_all', 'cent_all', 'er'], cants: ['ves', 'mito', 'isg', 'chloroplast', 'vacuole', 'cell']\n",
      "crop124, cans: ['nuc', 'golgi', 'endo', 'lyso', 'ld', 'eres', 'perox', 'ne', 'np', 'chrom', 'mt', 'er_mem_all', 'ne_mem_all', 'cent_all', 'er'], cants: ['ves', 'mito', 'isg', 'chloroplast', 'vacuole', 'cell']\n",
      "crop125, cans: ['nuc', 'golgi', 'endo', 'lyso', 'ld', 'eres', 'perox', 'ne', 'np', 'chrom', 'mt', 'er_mem_all', 'ne_mem_all', 'cent_all', 'er'], cants: ['ves', 'mito', 'isg', 'chloroplast', 'vacuole', 'cell']\n",
      "crop131, cans: ['nuc', 'golgi', 'endo', 'lyso', 'ld', 'eres', 'perox', 'ne', 'np', 'chrom', 'mt', 'er_mem_all', 'ne_mem_all', 'cent_all', 'er'], cants: ['ves', 'mito', 'isg', 'chloroplast', 'vacuole', 'cell']\n",
      "crop132, cans: ['nuc', 'golgi', 'endo', 'lyso', 'ld', 'eres', 'perox', 'ne', 'np', 'chrom', 'mt', 'er_mem_all', 'ne_mem_all', 'cent_all', 'er'], cants: ['ves', 'mito', 'isg', 'chloroplast', 'vacuole', 'cell']\n",
      "crop133, cans: ['nuc', 'golgi', 'endo', 'lyso', 'ld', 'eres', 'perox', 'ne', 'np', 'chrom', 'mt', 'er_mem_all', 'ne_mem_all', 'cent_all', 'er'], cants: ['ves', 'mito', 'isg', 'chloroplast', 'vacuole', 'cell']\n",
      "crop135, cans: ['nuc', 'golgi', 'endo', 'lyso', 'ld', 'eres', 'perox', 'ne', 'np', 'chrom', 'mt', 'er_mem_all', 'ne_mem_all', 'cent_all', 'er'], cants: ['ves', 'mito', 'isg', 'chloroplast', 'vacuole', 'cell']\n",
      "crop136, cans: ['nuc', 'golgi', 'endo', 'lyso', 'ld', 'eres', 'perox', 'ne', 'np', 'chrom', 'mt', 'er_mem_all', 'ne_mem_all', 'cent_all', 'er'], cants: ['ves', 'mito', 'isg', 'chloroplast', 'vacuole', 'cell']\n",
      "crop137, cans: ['nuc', 'golgi', 'endo', 'lyso', 'ld', 'eres', 'perox', 'ne', 'np', 'chrom', 'mt', 'er_mem_all', 'ne_mem_all', 'cent_all', 'er'], cants: ['ves', 'mito', 'isg', 'chloroplast', 'vacuole', 'cell']\n",
      "crop138, cans: ['nuc', 'golgi', 'endo', 'lyso', 'ld', 'eres', 'perox', 'ne', 'np', 'chrom', 'mt', 'er_mem_all', 'ne_mem_all', 'cent_all', 'er'], cants: ['ves', 'mito', 'isg', 'chloroplast', 'vacuole', 'cell']\n",
      "crop139, cans: ['nuc', 'golgi', 'endo', 'lyso', 'ld', 'eres', 'perox', 'ne', 'np', 'chrom', 'mt', 'er_mem_all', 'ne_mem_all', 'cent_all', 'er'], cants: ['ves', 'mito', 'isg', 'chloroplast', 'vacuole', 'cell']\n",
      "crop142, cans: ['nuc', 'golgi', 'endo', 'lyso', 'ld', 'eres', 'perox', 'ne', 'np', 'chrom', 'mt', 'er_mem_all', 'ne_mem_all', 'cent_all', 'er'], cants: ['ves', 'mito', 'isg', 'chloroplast', 'vacuole', 'cell']\n",
      "crop143, cans: ['nuc', 'golgi', 'endo', 'lyso', 'ld', 'eres', 'perox', 'ne', 'np', 'chrom', 'mt', 'er_mem_all', 'ne_mem_all', 'cent_all', 'er'], cants: ['ves', 'mito', 'isg', 'chloroplast', 'vacuole', 'cell']\n",
      "crop144, cans: ['nuc', 'golgi', 'endo', 'lyso', 'ld', 'eres', 'perox', 'ne', 'np', 'chrom', 'mt', 'er_mem_all', 'ne_mem_all', 'cent_all', 'er'], cants: ['ves', 'mito', 'isg', 'chloroplast', 'vacuole', 'cell']\n",
      "crop145, cans: ['nuc', 'golgi', 'endo', 'lyso', 'ld', 'eres', 'perox', 'ne', 'np', 'chrom', 'mt', 'er_mem_all', 'ne_mem_all', 'cent_all', 'er'], cants: ['ves', 'mito', 'isg', 'chloroplast', 'vacuole', 'cell']\n",
      "crop150, cans: ['nuc', 'golgi', 'endo', 'lyso', 'ld', 'eres', 'perox', 'ne', 'np', 'chrom', 'mt', 'er_mem_all', 'ne_mem_all', 'cent_all', 'er'], cants: ['ves', 'mito', 'isg', 'chloroplast', 'vacuole', 'cell']\n",
      "crop151, cans: ['nuc', 'golgi', 'endo', 'lyso', 'ld', 'eres', 'perox', 'ne', 'np', 'chrom', 'mt', 'er_mem_all', 'ne_mem_all', 'cent_all', 'er'], cants: ['ves', 'mito', 'isg', 'chloroplast', 'vacuole', 'cell']\n",
      "crop157, cans: ['nuc', 'golgi', 'endo', 'lyso', 'ld', 'eres', 'perox', 'ne', 'np', 'chrom', 'mt', 'er_mem_all', 'ne_mem_all', 'cent_all', 'er'], cants: ['ves', 'mito', 'isg', 'chloroplast', 'vacuole', 'cell']\n",
      "crop183, cans: ['nuc', 'golgi', 'endo', 'lyso', 'ld', 'eres', 'perox', 'ne', 'np', 'chrom', 'mt', 'er_mem_all', 'ne_mem_all', 'cent_all', 'er'], cants: ['ves', 'mito', 'isg', 'chloroplast', 'vacuole', 'cell']\n",
      "crop171, cans: ['nuc', 'golgi', 'endo', 'lyso', 'ld', 'eres', 'perox', 'ne', 'np', 'chrom', 'mt', 'er_mem_all', 'ne_mem_all', 'cent_all', 'er'], cants: ['ves', 'mito', 'isg', 'chloroplast', 'vacuole', 'cell']\n",
      "crop416, cans: ['nuc', 'golgi', 'endo', 'lyso', 'ld', 'eres', 'perox', 'ne', 'np', 'chrom', 'mt', 'er_mem_all', 'ne_mem_all', 'cent_all', 'er'], cants: ['ves', 'mito', 'isg', 'chloroplast', 'vacuole', 'cell']\n",
      "crop172, cans: ['nuc', 'golgi', 'endo', 'lyso', 'ld', 'eres', 'perox', 'ne', 'np', 'chrom', 'mt', 'er_mem_all', 'ne_mem_all', 'cent_all', 'er'], cants: ['ves', 'mito', 'isg', 'chloroplast', 'vacuole', 'cell']\n",
      "crop417, cans: ['nuc', 'golgi', 'endo', 'lyso', 'ld', 'eres', 'perox', 'ne', 'np', 'chrom', 'mt', 'er_mem_all', 'ne_mem_all', 'cent_all', 'er'], cants: ['ves', 'mito', 'isg', 'chloroplast', 'vacuole', 'cell']\n",
      "crop175, cans: ['nuc', 'golgi', 'endo', 'lyso', 'ld', 'eres', 'perox', 'ne', 'np', 'chrom', 'mt', 'er_mem_all', 'ne_mem_all', 'cent_all', 'er'], cants: ['ves', 'mito', 'isg', 'chloroplast', 'vacuole', 'cell']\n",
      "crop20, cans: ['nuc', 'golgi', 'endo', 'lyso', 'ld', 'eres', 'perox', 'ne', 'np', 'chrom', 'mt', 'er_mem_all', 'ne_mem_all', 'cent_all', 'er'], cants: ['ves', 'mito', 'isg', 'chloroplast', 'vacuole', 'cell']\n",
      "crop22, cans: ['nuc', 'golgi', 'endo', 'lyso', 'ld', 'eres', 'perox', 'ne', 'np', 'chrom', 'mt', 'er_mem_all', 'ne_mem_all', 'cent_all', 'er'], cants: ['ves', 'mito', 'isg', 'chloroplast', 'vacuole', 'cell']\n",
      "crop25, cans: ['nuc', 'golgi', 'endo', 'lyso', 'ld', 'eres', 'perox', 'ne', 'np', 'chrom', 'mt', 'er_mem_all', 'ne_mem_all', 'cent_all', 'er'], cants: ['ves', 'mito', 'isg', 'chloroplast', 'vacuole', 'cell']\n",
      "crop26, cans: ['nuc', 'golgi', 'endo', 'lyso', 'ld', 'eres', 'perox', 'ne', 'np', 'chrom', 'mt', 'er_mem_all', 'ne_mem_all', 'cent_all', 'er'], cants: ['ves', 'mito', 'isg', 'chloroplast', 'vacuole', 'cell']\n",
      "crop81, cans: ['nuc', 'golgi', 'endo', 'lyso', 'ld', 'eres', 'perox', 'ne', 'np', 'chrom', 'mt', 'er_mem_all', 'ne_mem_all', 'cent_all', 'er'], cants: ['ves', 'mito', 'isg', 'chloroplast', 'vacuole', 'cell']\n",
      "crop82, cans: ['nuc', 'golgi', 'endo', 'lyso', 'ld', 'eres', 'perox', 'ne', 'np', 'chrom', 'mt', 'er_mem_all', 'ne_mem_all', 'cent_all', 'er'], cants: ['ves', 'mito', 'isg', 'chloroplast', 'vacuole', 'cell']\n",
      "crop80, cans: ['nuc', 'golgi', 'endo', 'lyso', 'ld', 'eres', 'perox', 'ne', 'np', 'chrom', 'mt', 'er_mem_all', 'ne_mem_all', 'cent_all', 'er'], cants: ['ves', 'mito', 'isg', 'chloroplast', 'vacuole', 'cell']\n",
      "crop83, cans: ['nuc', 'golgi', 'endo', 'lyso', 'ld', 'eres', 'perox', 'ne', 'np', 'chrom', 'mt', 'er_mem_all', 'ne_mem_all', 'cent_all', 'er'], cants: ['ves', 'mito', 'isg', 'chloroplast', 'vacuole', 'cell']\n",
      "crop84, cans: ['nuc', 'golgi', 'endo', 'lyso', 'ld', 'eres', 'perox', 'ne', 'np', 'chrom', 'mt', 'er_mem_all', 'ne_mem_all', 'cent_all', 'er'], cants: ['ves', 'mito', 'isg', 'chloroplast', 'vacuole', 'cell']\n",
      "crop97, cans: ['golgi', 'endo', 'lyso', 'ld', 'eres', 'perox', 'ne', 'np', 'mt', 'er_mem_all', 'ne_mem_all', 'cent_all', 'er'], cants: ['nuc', 'ves', 'mito', 'chrom', 'isg', 'chloroplast', 'vacuole', 'cell']\n",
      "crop98, cans: ['golgi', 'endo', 'lyso', 'ld', 'eres', 'perox', 'ne', 'np', 'mt', 'er_mem_all', 'ne_mem_all', 'cent_all', 'er'], cants: ['nuc', 'ves', 'mito', 'chrom', 'isg', 'chloroplast', 'vacuole', 'cell']\n",
      "crop99, cans: ['golgi', 'endo', 'lyso', 'ld', 'eres', 'perox', 'ne', 'np', 'mt', 'er_mem_all', 'ne_mem_all', 'cent_all', 'er'], cants: ['nuc', 'ves', 'mito', 'chrom', 'isg', 'chloroplast', 'vacuole', 'cell']\n",
      "crop106, cans: ['nuc', 'golgi', 'endo', 'lyso', 'ld', 'eres', 'perox', 'ne', 'np', 'chrom', 'mt', 'er_mem_all', 'ne_mem_all', 'cent_all', 'er'], cants: ['ves', 'mito', 'isg', 'chloroplast', 'vacuole', 'cell']\n",
      "crop115, cans: ['nuc', 'golgi', 'endo', 'lyso', 'ld', 'eres', 'perox', 'ne', 'np', 'chrom', 'mt', 'er_mem_all', 'ne_mem_all', 'cent_all', 'er'], cants: ['ves', 'mito', 'isg', 'chloroplast', 'vacuole', 'cell']\n",
      "crop202, cans: ['nuc', 'golgi', 'endo', 'lyso', 'ld', 'eres', 'perox', 'ne', 'np', 'chrom', 'mt', 'er_mem_all', 'ne_mem_all', 'cent_all', 'er'], cants: ['ves', 'mito', 'isg', 'chloroplast', 'vacuole', 'cell']\n",
      "crop203, cans: ['nuc', 'golgi', 'endo', 'lyso', 'ld', 'eres', 'perox', 'ne', 'np', 'chrom', 'mt', 'er_mem_all', 'ne_mem_all', 'cent_all', 'er'], cants: ['ves', 'mito', 'isg', 'chloroplast', 'vacuole', 'cell']\n",
      "crop213, cans: ['nuc', 'golgi', 'endo', 'lyso', 'ld', 'eres', 'perox', 'ne', 'np', 'chrom', 'mt', 'er_mem_all', 'ne_mem_all', 'cent_all', 'er'], cants: ['ves', 'mito', 'isg', 'chloroplast', 'vacuole', 'cell']\n",
      "crop210, cans: ['nuc', 'golgi', 'endo', 'lyso', 'ld', 'eres', 'perox', 'ne', 'np', 'chrom', 'mt', 'er_mem_all', 'ne_mem_all', 'cent_all', 'er'], cants: ['ves', 'mito', 'isg', 'chloroplast', 'vacuole', 'cell']\n",
      "crop206, cans: ['nuc', 'golgi', 'endo', 'lyso', 'ld', 'eres', 'perox', 'ne', 'np', 'chrom', 'mt', 'er_mem_all', 'ne_mem_all', 'cent_all', 'er'], cants: ['ves', 'mito', 'isg', 'chloroplast', 'vacuole', 'cell']\n",
      "crop216, cans: ['nuc', 'golgi', 'endo', 'lyso', 'ld', 'eres', 'perox', 'ne', 'np', 'chrom', 'mt', 'er_mem_all', 'ne_mem_all', 'cent_all', 'er'], cants: ['ves', 'mito', 'isg', 'chloroplast', 'vacuole', 'cell']\n",
      "crop208, cans: ['nuc', 'golgi', 'endo', 'lyso', 'ld', 'eres', 'perox', 'ne', 'np', 'chrom', 'mt', 'er_mem_all', 'ne_mem_all', 'cent_all', 'er'], cants: ['ves', 'mito', 'isg', 'chloroplast', 'vacuole', 'cell']\n",
      "crop201, cans: ['nuc', 'golgi', 'endo', 'lyso', 'ld', 'eres', 'perox', 'ne', 'np', 'chrom', 'mt', 'er_mem_all', 'ne_mem_all', 'cent_all', 'er'], cants: ['ves', 'mito', 'isg', 'chloroplast', 'vacuole', 'cell']\n",
      "crop212, cans: ['nuc', 'golgi', 'endo', 'lyso', 'ld', 'eres', 'perox', 'ne', 'np', 'chrom', 'mt', 'er_mem_all', 'ne_mem_all', 'cent_all', 'er'], cants: ['ves', 'mito', 'isg', 'chloroplast', 'vacuole', 'cell']\n",
      "crop217, cans: ['nuc', 'golgi', 'endo', 'lyso', 'ld', 'eres', 'perox', 'ne', 'np', 'chrom', 'mt', 'er_mem_all', 'ne_mem_all', 'cent_all', 'er'], cants: ['ves', 'mito', 'isg', 'chloroplast', 'vacuole', 'cell']\n",
      "crop218, cans: ['nuc', 'golgi', 'endo', 'lyso', 'ld', 'eres', 'perox', 'ne', 'np', 'chrom', 'mt', 'er_mem_all', 'ne_mem_all', 'cent_all', 'er'], cants: ['ves', 'mito', 'isg', 'chloroplast', 'vacuole', 'cell']\n",
      "crop186, cans: ['nuc', 'golgi', 'endo', 'lyso', 'ld', 'eres', 'perox', 'ne', 'np', 'chrom', 'mt', 'er_mem_all', 'ne_mem_all', 'cent_all', 'er'], cants: ['ves', 'mito', 'isg', 'chloroplast', 'vacuole', 'cell']\n",
      "crop187, cans: ['nuc', 'golgi', 'endo', 'lyso', 'ld', 'eres', 'perox', 'ne', 'np', 'chrom', 'mt', 'er_mem_all', 'ne_mem_all', 'cent_all', 'er'], cants: ['ves', 'mito', 'isg', 'chloroplast', 'vacuole', 'cell']\n",
      "crop188, cans: ['nuc', 'golgi', 'endo', 'lyso', 'ld', 'eres', 'perox', 'ne', 'np', 'chrom', 'mt', 'er_mem_all', 'ne_mem_all', 'cent_all', 'er'], cants: ['ves', 'mito', 'isg', 'chloroplast', 'vacuole', 'cell']\n",
      "crop209, cans: ['nuc', 'golgi', 'endo', 'lyso', 'ld', 'eres', 'perox', 'ne', 'np', 'chrom', 'mt', 'er_mem_all', 'ne_mem_all', 'cent_all', 'er'], cants: ['ves', 'mito', 'isg', 'chloroplast', 'vacuole', 'cell']\n",
      "crop211, cans: ['perox'], cants: ['nuc', 'golgi', 'ves', 'endo', 'lyso', 'ld', 'eres', 'mito', 'ne', 'np', 'chrom', 'mt', 'isg', 'er_mem_all', 'ne_mem_all', 'cent_all', 'chloroplast', 'vacuole', 'er', 'cell']\n",
      "crop189, cans: ['nuc', 'golgi', 'endo', 'lyso', 'ld', 'eres', 'perox', 'ne', 'np', 'chrom', 'mt', 'er_mem_all', 'ne_mem_all', 'cent_all', 'er'], cants: ['ves', 'mito', 'isg', 'chloroplast', 'vacuole', 'cell']\n",
      "crop219, cans: ['nuc', 'golgi', 'endo', 'lyso', 'ld', 'eres', 'perox', 'ne', 'np', 'chrom', 'mt', 'er_mem_all', 'ne_mem_all', 'cent_all', 'er'], cants: ['ves', 'mito', 'isg', 'chloroplast', 'vacuole', 'cell']\n",
      "crop192, cans: ['nuc', 'golgi', 'endo', 'lyso', 'ld', 'eres', 'perox', 'ne', 'np', 'chrom', 'mt', 'er_mem_all', 'ne_mem_all', 'cent_all', 'er'], cants: ['ves', 'mito', 'isg', 'chloroplast', 'vacuole', 'cell']\n",
      "crop193, cans: ['nuc', 'golgi', 'endo', 'lyso', 'ld', 'eres', 'perox', 'ne', 'np', 'chrom', 'mt', 'er_mem_all', 'ne_mem_all', 'cent_all', 'er'], cants: ['ves', 'mito', 'isg', 'chloroplast', 'vacuole', 'cell']\n",
      "crop191, cans: ['nuc', 'golgi', 'endo', 'lyso', 'ld', 'eres', 'perox', 'ne', 'np', 'chrom', 'mt', 'er_mem_all', 'ne_mem_all', 'cent_all', 'er'], cants: ['ves', 'mito', 'isg', 'chloroplast', 'vacuole', 'cell']\n",
      "crop200, cans: ['nuc', 'golgi', 'endo', 'lyso', 'ld', 'eres', 'perox', 'ne', 'np', 'chrom', 'mt', 'er_mem_all', 'ne_mem_all', 'cent_all', 'er'], cants: ['ves', 'mito', 'isg', 'chloroplast', 'vacuole', 'cell']\n",
      "crop195, cans: ['nuc', 'golgi', 'endo', 'lyso', 'ld', 'eres', 'perox', 'ne', 'np', 'chrom', 'mt', 'er_mem_all', 'ne_mem_all', 'cent_all', 'er'], cants: ['ves', 'mito', 'isg', 'chloroplast', 'vacuole', 'cell']\n",
      "crop199, cans: ['nuc', 'golgi', 'endo', 'lyso', 'ld', 'eres', 'perox', 'ne', 'np', 'chrom', 'mt', 'er_mem_all', 'ne_mem_all', 'cent_all', 'er'], cants: ['ves', 'mito', 'isg', 'chloroplast', 'vacuole', 'cell']\n",
      "crop198, cans: ['nuc', 'golgi', 'endo', 'lyso', 'ld', 'eres', 'perox', 'ne', 'np', 'chrom', 'mt', 'er_mem_all', 'ne_mem_all', 'cent_all', 'er'], cants: ['ves', 'mito', 'isg', 'chloroplast', 'vacuole', 'cell']\n",
      "crop190, cans: ['nuc', 'golgi', 'endo', 'lyso', 'ld', 'eres', 'perox', 'ne', 'np', 'chrom', 'mt', 'er_mem_all', 'ne_mem_all', 'cent_all', 'er'], cants: ['ves', 'mito', 'isg', 'chloroplast', 'vacuole', 'cell']\n",
      "crop220, cans: ['nuc', 'golgi', 'endo', 'lyso', 'ld', 'eres', 'perox', 'ne', 'np', 'chrom', 'mt', 'er_mem_all', 'ne_mem_all', 'cent_all', 'er'], cants: ['ves', 'mito', 'isg', 'chloroplast', 'vacuole', 'cell']\n",
      "crop197, cans: ['nuc', 'golgi', 'endo', 'lyso', 'ld', 'eres', 'perox', 'ne', 'np', 'chrom', 'mt', 'er_mem_all', 'ne_mem_all', 'cent_all', 'er'], cants: ['ves', 'mito', 'isg', 'chloroplast', 'vacuole', 'cell']\n",
      "crop214, cans: ['nuc', 'golgi', 'endo', 'lyso', 'ld', 'eres', 'perox', 'ne', 'np', 'chrom', 'mt', 'er_mem_all', 'ne_mem_all', 'cent_all', 'er'], cants: ['ves', 'mito', 'isg', 'chloroplast', 'vacuole', 'cell']\n",
      "crop196, cans: ['nuc', 'golgi', 'endo', 'lyso', 'ld', 'eres', 'perox', 'ne', 'np', 'chrom', 'mt', 'er_mem_all', 'ne_mem_all', 'cent_all', 'er'], cants: ['ves', 'mito', 'isg', 'chloroplast', 'vacuole', 'cell']\n",
      "crop224, cans: ['nuc', 'golgi', 'endo', 'lyso', 'ld', 'eres', 'perox', 'ne', 'np', 'chrom', 'mt', 'er_mem_all', 'ne_mem_all', 'cent_all', 'er'], cants: ['ves', 'mito', 'isg', 'chloroplast', 'vacuole', 'cell']\n",
      "crop222, cans: ['nuc', 'golgi', 'endo', 'lyso', 'ld', 'eres', 'perox', 'ne', 'np', 'chrom', 'mt', 'er_mem_all', 'ne_mem_all', 'cent_all', 'er'], cants: ['ves', 'mito', 'isg', 'chloroplast', 'vacuole', 'cell']\n",
      "crop228, cans: ['nuc', 'golgi', 'endo', 'lyso', 'ld', 'eres', 'perox', 'ne', 'np', 'chrom', 'mt', 'er_mem_all', 'ne_mem_all', 'cent_all', 'er'], cants: ['ves', 'mito', 'isg', 'chloroplast', 'vacuole', 'cell']\n",
      "crop226, cans: ['nuc', 'golgi', 'endo', 'lyso', 'ld', 'eres', 'perox', 'ne', 'np', 'chrom', 'mt', 'er_mem_all', 'ne_mem_all', 'cent_all', 'er'], cants: ['ves', 'mito', 'isg', 'chloroplast', 'vacuole', 'cell']\n",
      "crop227, cans: ['nuc', 'golgi', 'endo', 'lyso', 'ld', 'eres', 'perox', 'ne', 'np', 'chrom', 'mt', 'er_mem_all', 'ne_mem_all', 'cent_all', 'er'], cants: ['ves', 'mito', 'isg', 'chloroplast', 'vacuole', 'cell']\n",
      "crop225, cans: ['nuc', 'golgi', 'endo', 'lyso', 'ld', 'eres', 'perox', 'ne', 'np', 'chrom', 'mt', 'er_mem_all', 'ne_mem_all', 'cent_all', 'er'], cants: ['ves', 'mito', 'isg', 'chloroplast', 'vacuole', 'cell']\n",
      "crop318, cans: ['ld', 'perox', 'cent_all'], cants: ['nuc', 'golgi', 'ves', 'endo', 'lyso', 'eres', 'mito', 'ne', 'np', 'chrom', 'mt', 'isg', 'er_mem_all', 'ne_mem_all', 'chloroplast', 'vacuole', 'er', 'cell']\n"
     ]
    }
   ],
   "source": [
    "for ds_dir, ds_info in data.items():\n",
    "    crops = []\n",
    "    for crop in ds_info[\"crops\"]:\n",
    "        crops.extend(crop.split(\",\"))\n",
    "    for crop in crops:\n",
    "        path = os.path.join(root_gt_path, ds_dir, \"groundtruth.zarr\", crop)\n",
    "        crop_zarr = zarr.open(path, \"r\")\n",
    "        annotated = crop_zarr.attrs[\"cellmap\"][\"annotation\"][\"class_names\"]\n",
    "        cans = []\n",
    "        cants = []\n",
    "        for lbl, sublbls in label.items():\n",
    "            if all(sublbl in annotated for sublbl in sublbls):\n",
    "                cans.append(lbl)\n",
    "                annotated.append(lbl)\n",
    "            else:\n",
    "                cants.append(lbl)\n",
    "        print(f\"{crop}, cans: {cans}, cants: {cants}\")\n",
    "        #for lbl, sublbs in label.items():\n",
    "            \n"
   ]
  },
  {
   "cell_type": "code",
   "execution_count": null,
   "metadata": {},
   "outputs": [],
   "source": []
  }
 ],
 "metadata": {
  "kernelspec": {
   "display_name": "Python 3",
   "language": "python",
   "name": "python3"
  },
  "language_info": {
   "codemirror_mode": {
    "name": "ipython",
    "version": 3
   },
   "file_extension": ".py",
   "mimetype": "text/x-python",
   "name": "python",
   "nbconvert_exporter": "python",
   "pygments_lexer": "ipython3",
   "version": "3.10.14"
  }
 },
 "nbformat": 4,
 "nbformat_minor": 2
}
